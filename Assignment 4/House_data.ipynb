{
 "cells": [
  {
   "cell_type": "code",
   "execution_count": 1,
   "metadata": {
    "collapsed": true
   },
   "outputs": [],
   "source": [
    "import pandas as pd\n",
    "import numpy as np\n",
    "import os\n",
    "import matplotlib.pyplot as plt"
   ]
  },
  {
   "cell_type": "code",
   "execution_count": 2,
   "metadata": {
    "collapsed": true
   },
   "outputs": [],
   "source": [
    "os.chdir(\"/Users/Hatim/Downloads/\")"
   ]
  },
  {
   "cell_type": "code",
   "execution_count": 3,
   "metadata": {
    "collapsed": true
   },
   "outputs": [],
   "source": [
    "df = pd.read_csv(\"home_prices_train.csv\",index_col = 0)"
   ]
  },
  {
   "cell_type": "code",
   "execution_count": 4,
   "metadata": {},
   "outputs": [
    {
     "data": {
      "image/png": "[encoded data removed]",
      "text/plain": [
       "<matplotlib.figure.Figure at 0x110496da0>"
      ]
     },
     "metadata": {},
     "output_type": "display_data"
    }
   ],
   "source": [
    "plt.plot(df['GrLivArea'],df['SalePrice'],'ro')\n",
    "plt.xlabel(\"Gr Liv Area\")\n",
    "plt.ylabel(\"Sale Price\")\n",
    "plt.show()"
   ]
  },
  {
   "cell_type": "code",
   "execution_count": 5,
   "metadata": {
    "collapsed": true
   },
   "outputs": [],
   "source": [
    "#As it can be seen that there are few outliers. Removing those outliers to get better results.\n",
    "df = df[df[\"GrLivArea\"]<4000]"
   ]
  },
  {
   "cell_type": "code",
   "execution_count": 6,
   "metadata": {},
   "outputs": [
    {
     "name": "stdout",
     "output_type": "stream",
     "text": [
      "MSSubClass          0\n",
      "MSZoning            0\n",
      "LotFrontage       259\n",
      "LotArea             0\n",
      "Street              0\n",
      "Alley            1365\n",
      "LotShape            0\n",
      "LandContour         0\n",
      "Utilities           0\n",
      "LotConfig           0\n",
      "LandSlope           0\n",
      "Neighborhood        0\n",
      "Condition1          0\n",
      "Condition2          0\n",
      "BldgType            0\n",
      "HouseStyle          0\n",
      "OverallQual         0\n",
      "OverallCond         0\n",
      "YearBuilt           0\n",
      "YearRemodAdd        0\n",
      "RoofStyle           0\n",
      "RoofMatl            0\n",
      "Exterior1st         0\n",
      "Exterior2nd         0\n",
      "MasVnrType          8\n",
      "MasVnrArea          8\n",
      "ExterQual           0\n",
      "ExterCond           0\n",
      "Foundation          0\n",
      "BsmtQual           37\n",
      "BsmtCond           37\n",
      "BsmtExposure       38\n",
      "BsmtFinType1       37\n",
      "BsmtFinSF1          0\n",
      "BsmtFinType2       38\n",
      "BsmtFinSF2          0\n",
      "BsmtUnfSF           0\n",
      "TotalBsmtSF         0\n",
      "Heating             0\n",
      "HeatingQC           0\n",
      "CentralAir          0\n",
      "Electrical          1\n",
      "1stFlrSF            0\n",
      "2ndFlrSF            0\n",
      "LowQualFinSF        0\n",
      "GrLivArea           0\n",
      "BsmtFullBath        0\n",
      "BsmtHalfBath        0\n",
      "FullBath            0\n",
      "HalfBath            0\n",
      "BedroomAbvGr        0\n",
      "KitchenAbvGr        0\n",
      "KitchenQual         0\n",
      "TotRmsAbvGrd        0\n",
      "Functional          0\n",
      "Fireplaces          0\n",
      "FireplaceQu       690\n",
      "GarageType         81\n",
      "GarageYrBlt        81\n",
      "GarageFinish       81\n",
      "GarageCars          0\n",
      "GarageArea          0\n",
      "GarageQual         81\n",
      "GarageCond         81\n",
      "PavedDrive          0\n",
      "WoodDeckSF          0\n",
      "OpenPorchSF         0\n",
      "EnclosedPorch       0\n",
      "3SsnPorch           0\n",
      "ScreenPorch         0\n",
      "PoolArea            0\n",
      "PoolQC           1451\n",
      "Fence            1176\n",
      "MiscFeature      1402\n",
      "MiscVal             0\n",
      "MoSold              0\n",
      "YrSold              0\n",
      "SaleType            0\n",
      "SaleCondition       0\n",
      "SalePrice           0\n"
     ]
    }
   ],
   "source": [
    "print(df.isnull().sum(axis=0).to_string())"
   ]
  },
  {
   "cell_type": "markdown",
   "metadata": {},
   "source": [
    "As it can be seen that there are many NaN values. This doesn't mean that the data is missing.\n",
    "These NaN values have some meaning to it. For example, when there is no Garage present which\n",
    "is inferred by looking at the Garage Count (Count = 0), we will not have any data\n",
    "on the quality of the Garage and hence it is NaN. So here we can replace NaN with \"Garage Not Present\" or \n",
    "something on similar lines."
   ]
  },
  {
   "cell_type": "code",
   "execution_count": 7,
   "metadata": {
    "collapsed": true
   },
   "outputs": [],
   "source": [
    "def missing_data_treatment(dataframe):\n",
    "    \"It is likely that no street is connected to the property and hence the LotFrontage is zero\"\n",
    "    dataframe.loc[:,\"LotFrontage\"] = dataframe.loc[:,\"LotFrontage\"].fillna(0)\n",
    "    \"There is no alley access when Alley = NaN\"\n",
    "    dataframe.loc[:,\"Alley\"] = dataframe.loc[:,\"Alley\"].fillna(\"NoAlleyAccess\")\n",
    "    \"No Basement when NaN values present in BsmtQual,BsmtCond,BsmtExposure,BsmtFinType1,BsmtFinType2\"\n",
    "    dataframe.loc[:,\"BsmtQual\"] = dataframe.loc[:,\"BsmtQual\"].fillna(\"No\")\n",
    "    dataframe.loc[:,\"BsmtCond\"] = dataframe.loc[:,\"BsmtCond\"].fillna(\"No\")\n",
    "    dataframe.loc[:,\"BsmtExposure\"] = dataframe.loc[:,\"BsmtExposure\"].fillna(\"No\")\n",
    "    dataframe.loc[:,\"BsmtFinType1\"] = dataframe.loc[:,\"BsmtFinType1\"].fillna(\"No\")\n",
    "    dataframe.loc[:,\"BsmtFinType2\"] = dataframe.loc[:,\"BsmtFinType2\"].fillna(\"No\")\n",
    "    \"NaN in Electrical means No Electrial System\"\n",
    "    dataframe.loc[:,\"Electrical\"] = dataframe.loc[:,\"Electrical\"].fillna(\"NoElectricalSystem\")\n",
    "    \"NaN in FireplaceQu means no Fireplace present\"\n",
    "    dataframe.loc[:,\"FireplaceQu\"] = dataframe.loc[:,\"FireplaceQu\"].fillna(\"NoFireplacePresent\")\n",
    "    \"No Garage present wherever there is NaN in garage related fields as discussed in the above cell\"\n",
    "    dataframe.loc[:,\"GarageType\"] = dataframe.loc[:,\"GarageType\"].fillna(\"NoGarage\")\n",
    "    dataframe.loc[:,\"GarageYrBlt\"] = dataframe.loc[:,\"GarageYrBlt\"].fillna(\"NoGarage\")\n",
    "    dataframe.loc[:,\"GarageFinish\"] = dataframe.loc[:,\"GarageFinish\"].fillna(\"NoGarage\")\n",
    "    dataframe.loc[:,\"GarageQual\"] = dataframe.loc[:,\"GarageQual\"].fillna(\"NoGarage\")\n",
    "    dataframe.loc[:,\"GarageCond\"] = dataframe.loc[:,\"GarageCond\"].fillna(\"NoGarage\")\n",
    "    \"Similarly for other variables\"\n",
    "    dataframe.loc[:,\"PoolQC\"] = dataframe.loc[:,\"PoolQC\"].fillna(\"NoPool\")\n",
    "    dataframe.loc[:,\"Fence\"] = dataframe.loc[:,\"Fence\"].fillna(\"NoFence\")\n",
    "    dataframe.loc[:,\"MiscFeature\"] = dataframe.loc[:,\"MiscFeature\"].fillna(\"NoMisc\")\n",
    "    \"\"\"MasVnrType and MasVnrArea also has NaN values. We cannot comment anything on those NaN values because it \n",
    "    already has the field None. We cannot assume those NaN values to be None. The other option would be to drop those \n",
    "    NaN values. But since out of those 8 values one of them has a sales price of 465000, it wouldn't be wise to \n",
    "    drop those 8 values. Only option left is to assume it to be None and 0.\"\"\"\n",
    "    dataframe.loc[:,\"MasVnrType\"] = dataframe.loc[:,\"MasVnrType\"].fillna(\"None\")\n",
    "    dataframe.loc[:,\"MasVnrArea\"] = dataframe.loc[:,\"MasVnrArea\"].fillna(0)"
   ]
  },
  {
   "cell_type": "code",
   "execution_count": 8,
   "metadata": {
    "collapsed": true
   },
   "outputs": [],
   "source": [
    "missing_data_treatment(df)"
   ]
  },
  {
   "cell_type": "code",
   "execution_count": 9,
   "metadata": {},
   "outputs": [
    {
     "name": "stdout",
     "output_type": "stream",
     "text": [
      "MSSubClass       0\n",
      "MSZoning         0\n",
      "LotFrontage      0\n",
      "LotArea          0\n",
      "Street           0\n",
      "Alley            0\n",
      "LotShape         0\n",
      "LandContour      0\n",
      "Utilities        0\n",
      "LotConfig        0\n",
      "LandSlope        0\n",
      "Neighborhood     0\n",
      "Condition1       0\n",
      "Condition2       0\n",
      "BldgType         0\n",
      "HouseStyle       0\n",
      "OverallQual      0\n",
      "OverallCond      0\n",
      "YearBuilt        0\n",
      "YearRemodAdd     0\n",
      "RoofStyle        0\n",
      "RoofMatl         0\n",
      "Exterior1st      0\n",
      "Exterior2nd      0\n",
      "MasVnrType       0\n",
      "MasVnrArea       0\n",
      "ExterQual        0\n",
      "ExterCond        0\n",
      "Foundation       0\n",
      "BsmtQual         0\n",
      "BsmtCond         0\n",
      "BsmtExposure     0\n",
      "BsmtFinType1     0\n",
      "BsmtFinSF1       0\n",
      "BsmtFinType2     0\n",
      "BsmtFinSF2       0\n",
      "BsmtUnfSF        0\n",
      "TotalBsmtSF      0\n",
      "Heating          0\n",
      "HeatingQC        0\n",
      "CentralAir       0\n",
      "Electrical       0\n",
      "1stFlrSF         0\n",
      "2ndFlrSF         0\n",
      "LowQualFinSF     0\n",
      "GrLivArea        0\n",
      "BsmtFullBath     0\n",
      "BsmtHalfBath     0\n",
      "FullBath         0\n",
      "HalfBath         0\n",
      "BedroomAbvGr     0\n",
      "KitchenAbvGr     0\n",
      "KitchenQual      0\n",
      "TotRmsAbvGrd     0\n",
      "Functional       0\n",
      "Fireplaces       0\n",
      "FireplaceQu      0\n",
      "GarageType       0\n",
      "GarageYrBlt      0\n",
      "GarageFinish     0\n",
      "GarageCars       0\n",
      "GarageArea       0\n",
      "GarageQual       0\n",
      "GarageCond       0\n",
      "PavedDrive       0\n",
      "WoodDeckSF       0\n",
      "OpenPorchSF      0\n",
      "EnclosedPorch    0\n",
      "3SsnPorch        0\n",
      "ScreenPorch      0\n",
      "PoolArea         0\n",
      "PoolQC           0\n",
      "Fence            0\n",
      "MiscFeature      0\n",
      "MiscVal          0\n",
      "MoSold           0\n",
      "YrSold           0\n",
      "SaleType         0\n",
      "SaleCondition    0\n",
      "SalePrice        0\n"
     ]
    }
   ],
   "source": [
    "print(df.isnull().sum(axis=0).to_string())"
   ]
  },
  {
   "cell_type": "code",
   "execution_count": 10,
   "metadata": {
    "collapsed": true
   },
   "outputs": [],
   "source": [
    "##taking care of categorical variables. Giving them numbers.\n",
    "df['SaleCondition'] = df['SaleCondition'].astype('category')\n",
    "df['SaleCondition'] = df['SaleCondition'].cat.reorder_categories(['Abnorml', 'Partial', \"AdjLand\",'Alloca',\"Normal\",\"Family\"], ordered=True)\n",
    "df['SaleCondition'] = df['SaleCondition'].cat.codes\n",
    "df['Functional'] = df['Functional'].astype('category')\n",
    "df['Functional'] = df['Functional'].cat.reorder_categories(['Typ','Min1','Min2','Mod','Maj1','Maj2','Sev'])\n",
    "df[\"Functional\"] = df['Functional'].cat.codes\n",
    "df['ExterQual'] = df['ExterQual'].astype('category')\n",
    "df['ExterQual'] = df['ExterQual'].cat.reorder_categories(['Ex','Gd','TA','Fa'])\n",
    "df[\"ExterQual\"] = df['ExterQual'].cat.codes\n",
    "df['ExterCond'] = df['ExterCond'].astype('category')\n",
    "df['ExterCond'] = df['ExterCond'].cat.reorder_categories(['Ex','Gd','TA','Fa','Po'])\n",
    "df[\"ExterCond\"] = df['ExterCond'].cat.codes"
   ]
  },
  {
   "cell_type": "code",
   "execution_count": 83,
   "metadata": {
    "collapsed": true
   },
   "outputs": [],
   "source": [
    "#selecting the same variables as linear regression\n",
    "X=df[[\"GrLivArea\",\"OverallQual\",\"YearBuilt\",\"Functional\",\"LotArea\",\"ExterQual\",\"1stFlrSF\",\"2ndFlrSF\"]]\n",
    "y=df[\"SalePrice\"]"
   ]
  },
  {
   "cell_type": "code",
   "execution_count": 84,
   "metadata": {},
   "outputs": [],
   "source": [
    "from sklearn.preprocessing import StandardScaler\n",
    "from sklearn.preprocessing import OneHotEncoder\n",
    "from sklearn.cross_validation import train_test_split, cross_val_score\n",
    "from sklearn.linear_model import LogisticRegression\n",
    "from sklearn.grid_search import GridSearchCV\n",
    "from sklearn.metrics import roc_curve, auc,log_loss,precision_score,r2_score\n",
    "from sklearn.feature_selection import RFECV\n",
    "from sklearn.model_selection import ShuffleSplit, StratifiedKFold\n",
    "from sklearn.svm import SVC,SVR,LinearSVR\n",
    "import warnings\n",
    "from sklearn.ensemble import BaggingClassifier as BC\n",
    "warnings.filterwarnings(\"ignore\", category=DeprecationWarning)\n",
    "scaler = StandardScaler()\n"
   ]
  },
  {
   "cell_type": "code",
   "execution_count": 85,
   "metadata": {},
   "outputs": [],
   "source": [
    "X_train, X_test, y_train, y_test = train_test_split(X, y,test_size=0.2,random_state=42)"
   ]
  },
  {
   "cell_type": "code",
   "execution_count": 72,
   "metadata": {},
   "outputs": [],
   "source": [
    "def gridsearch(X_train,y_train,X_test,y_test,model, params, scoring,cv=None):\n",
    "    gs_cv = GridSearchCV(model,params,scoring=scoring,n_jobs=-1,cv=cv)\n",
    "    gs_cv.fit(X_train, y_train)\n",
    "    y_pred_train = gs_cv.predict(X_train)\n",
    "    y_pred_test = gs_cv.predict(X_test)\n",
    "    print(\"----------------------------TRAINING DATA----------------------------\")\n",
    "    print(\"R-squared on training set is: \"+str(r2_score(y_train,y_pred_train)))\n",
    "    print(\"----------------------------TEST DATA----------------------------\")     \n",
    "    print(\"R-squared on test set is: \"+str(r2_score(y_test,y_pred_test)))\n",
    "    print(\"-----------------------------------------------------------------\")\n",
    "    print(\"BEST PARAMETERS BASED ON \"+scoring+\" AS A SCORING PARAMETER\")  \n",
    "    print(\"Best parameters: \"+str(gs_cv.best_params_))"
   ]
  },
  {
   "cell_type": "code",
   "execution_count": 73,
   "metadata": {},
   "outputs": [],
   "source": [
    "svr_parameters = {'C': [0.001, 0.01, 0.1, 1, 10],\n",
    "                  'epsilon':[0.1,0.5,1,10,50,100]}"
   ]
  },
  {
   "cell_type": "code",
   "execution_count": 74,
   "metadata": {},
   "outputs": [],
   "source": [
    "svr = LinearSVR(loss=\"squared_epsilon_insensitive\",dual=False)"
   ]
  },
  {
   "cell_type": "code",
   "execution_count": 76,
   "metadata": {},
   "outputs": [
    {
     "name": "stdout",
     "output_type": "stream",
     "text": [
      "----------------------------TRAINING DATA----------------------------\n",
      "R-squared on training set is: 0.62076820951\n",
      "----------------------------TEST DATA----------------------------\n",
      "R-squared on test set is: 0.566171473954\n",
      "-----------------------------------------------------------------\n",
      "BEST PARAMETERS BASED ON r2 AS A SCORING PARAMETER\n",
      "Best parameters: {'C': 0.001, 'epsilon': 100}\n"
     ]
    }
   ],
   "source": [
    "gridsearch(X_train,y_train,X_test,y_test,svr,svr_parameters,\"r2\",5)"
   ]
  },
  {
   "cell_type": "code",
   "execution_count": 77,
   "metadata": {},
   "outputs": [
    {
     "name": "stdout",
     "output_type": "stream",
     "text": [
      "----------------------------TRAINING DATA----------------------------\n",
      "R-squared on training set is: 0.376299706431\n",
      "----------------------------TEST DATA----------------------------\n",
      "R-squared on test set is: 0.384823559917\n",
      "-----------------------------------------------------------------\n",
      "BEST PARAMETERS BASED ON r2 AS A SCORING PARAMETER\n",
      "Best parameters: {'C': 0.001, 'epsilon': 100}\n"
     ]
    }
   ],
   "source": [
    "#trying different features\n",
    "X=df[['YearBuilt','YrSold','SaleCondition','MoSold','LotArea','BedroomAbvGr','OverallCond','OverallQual']]\n",
    "X_train, X_test, y_train, y_test = train_test_split(X, y,test_size=0.2,random_state=42)\n",
    "gridsearch(X_train,y_train,X_test,y_test,svr,svr_parameters,\"r2\",5)"
   ]
  },
  {
   "cell_type": "code",
   "execution_count": 89,
   "metadata": {
    "collapsed": true
   },
   "outputs": [],
   "source": [
    "#taking all numerical values\n",
    "X_train, X_test, y_train, y_test = train_test_split(df.select_dtypes(include=['float64','int64']), y,test_size=0.2,random_state=42)"
   ]
  },
  {
   "cell_type": "code",
   "execution_count": 90,
   "metadata": {},
   "outputs": [
    {
     "name": "stdout",
     "output_type": "stream",
     "text": [
      "----------------------------TRAINING DATA----------------------------\n",
      "R-squared on training set is: 0.999999821004\n",
      "----------------------------TEST DATA----------------------------\n",
      "R-squared on test set is: 0.999999837541\n",
      "-----------------------------------------------------------------\n",
      "BEST PARAMETERS BASED ON r2 AS A SCORING PARAMETER\n",
      "Best parameters: {'C': 1, 'epsilon': 50}\n"
     ]
    }
   ],
   "source": [
    "gridsearch(X_train,y_train,X_test,y_test,svr,svr_parameters,\"r2\",5)"
   ]
  },
  {
   "cell_type": "code",
   "execution_count": 91,
   "metadata": {
    "collapsed": true
   },
   "outputs": [],
   "source": [
    "#taking all numerical values\n",
    "X_train, X_test, y_train, y_test = train_test_split(df.select_dtypes(include=['float64','int64']), y,test_size=0.3,random_state=42)"
   ]
  },
  {
   "cell_type": "code",
   "execution_count": 92,
   "metadata": {},
   "outputs": [
    {
     "name": "stdout",
     "output_type": "stream",
     "text": [
      "----------------------------TRAINING DATA----------------------------\n",
      "R-squared on training set is: 0.999999902578\n",
      "----------------------------TEST DATA----------------------------\n",
      "R-squared on test set is: 0.999999893072\n",
      "-----------------------------------------------------------------\n",
      "BEST PARAMETERS BASED ON r2 AS A SCORING PARAMETER\n",
      "Best parameters: {'C': 0.001, 'epsilon': 1}\n"
     ]
    }
   ],
   "source": [
    "gridsearch(X_train,y_train,X_test,y_test,svr,svr_parameters,\"r2\",5)"
   ]
  },
  {
   "cell_type": "code",
   "execution_count": null,
   "metadata": {
    "collapsed": true
   },
   "outputs": [],
   "source": []
  }
 ],
 "metadata": {
  "kernelspec": {
   "display_name": "Python 3",
   "language": "python",
   "name": "python3"
  },
  "language_info": {
   "codemirror_mode": {
    "name": "ipython",
    "version": 3
   },
   "file_extension": ".py",
   "mimetype": "text/x-python",
   "name": "python",
   "nbconvert_exporter": "python",
   "pygments_lexer": "ipython3",
   "version": "3.6.1"
  }
 },
 "nbformat": 4,
 "nbformat_minor": 2
}
