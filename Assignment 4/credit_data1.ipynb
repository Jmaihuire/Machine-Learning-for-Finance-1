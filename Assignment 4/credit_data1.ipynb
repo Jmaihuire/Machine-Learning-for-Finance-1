{
 "cells": [
  {
   "cell_type": "code",
   "execution_count": 1,
   "metadata": {
    "collapsed": true
   },
   "outputs": [],
   "source": [
    "import pandas as pd\n",
    "import matplotlib.pyplot as plt\n",
    "import os\n",
    "import numpy as np\n",
    "%matplotlib inline"
   ]
  },
  {
   "cell_type": "code",
   "execution_count": 2,
   "metadata": {
    "collapsed": true
   },
   "outputs": [],
   "source": [
    "os.chdir(\"/Users/rishiagarwal/Downloads\")"
   ]
  },
  {
   "cell_type": "code",
   "execution_count": 3,
   "metadata": {
    "collapsed": true
   },
   "outputs": [],
   "source": [
    "credit_data = pd.read_csv(\"default.csv\",index_col = 0)"
   ]
  },
  {
   "cell_type": "code",
   "execution_count": 4,
   "metadata": {},
   "outputs": [
    {
     "name": "stdout",
     "output_type": "stream",
     "text": [
      "<class 'pandas.core.frame.DataFrame'>\n",
      "Int64Index: 30000 entries, 1 to 30000\n",
      "Data columns (total 24 columns):\n",
      "LIMIT_BAL                     30000 non-null int64\n",
      "SEX                           30000 non-null int64\n",
      "EDUCATION                     30000 non-null int64\n",
      "MARRIAGE                      30000 non-null int64\n",
      "AGE                           30000 non-null int64\n",
      "PAY_0                         30000 non-null int64\n",
      "PAY_2                         30000 non-null int64\n",
      "PAY_3                         30000 non-null int64\n",
      "PAY_4                         30000 non-null int64\n",
      "PAY_5                         30000 non-null int64\n",
      "PAY_6                         30000 non-null int64\n",
      "BILL_AMT1                     30000 non-null int64\n",
      "BILL_AMT2                     30000 non-null int64\n",
      "BILL_AMT3                     30000 non-null int64\n",
      "BILL_AMT4                     30000 non-null int64\n",
      "BILL_AMT5                     30000 non-null int64\n",
      "BILL_AMT6                     30000 non-null int64\n",
      "PAY_AMT1                      30000 non-null int64\n",
      "PAY_AMT2                      30000 non-null int64\n",
      "PAY_AMT3                      30000 non-null int64\n",
      "PAY_AMT4                      30000 non-null int64\n",
      "PAY_AMT5                      30000 non-null int64\n",
      "PAY_AMT6                      30000 non-null int64\n",
      "default payment next month    30000 non-null int64\n",
      "dtypes: int64(24)\n",
      "memory usage: 5.7 MB\n"
     ]
    }
   ],
   "source": [
    "credit_data.info()"
   ]
  },
  {
   "cell_type": "code",
   "execution_count": 5,
   "metadata": {
    "collapsed": true
   },
   "outputs": [],
   "source": [
    "cols_bill_amt = [col for col in credit_data.columns if ('BILL') in col]\n",
    "cols_pay_amt = [col for col in credit_data.columns if ('PAY_AMT') in col]\n",
    "cols_numerical = [col for col in credit_data.columns if ('AMT') in col]\n",
    "cols_pay = [col for col in credit_data.columns if ('PAY_') in col]\n",
    "cols_pay =cols_pay[0:6]"
   ]
  },
  {
   "cell_type": "code",
   "execution_count": 6,
   "metadata": {},
   "outputs": [
    {
     "name": "stderr",
     "output_type": "stream",
     "text": [
      "/Users/rishiagarwal/Library/Python/3.6/lib/python/site-packages/sklearn/cross_validation.py:41: DeprecationWarning: This module was deprecated in version 0.18 in favor of the model_selection module into which all the refactored classes and functions are moved. Also note that the interface of the new CV iterators are different from that of this module. This module will be removed in 0.20.\n",
      "  \"This module will be removed in 0.20.\", DeprecationWarning)\n",
      "/Users/rishiagarwal/Library/Python/3.6/lib/python/site-packages/sklearn/grid_search.py:42: DeprecationWarning: This module was deprecated in version 0.18 in favor of the model_selection module into which all the refactored classes and functions are moved. This module will be removed in 0.20.\n",
      "  DeprecationWarning)\n"
     ]
    }
   ],
   "source": [
    "from sklearn.preprocessing import StandardScaler\n",
    "from sklearn.preprocessing import OneHotEncoder\n",
    "from sklearn.cross_validation import train_test_split, cross_val_score\n",
    "from sklearn.linear_model import LogisticRegression\n",
    "from sklearn.grid_search import GridSearchCV\n",
    "from sklearn.metrics import roc_curve, auc, classification_report, confusion_matrix, accuracy_score,f1_score,log_loss,precision_score,recall_score\n",
    "from sklearn.feature_selection import RFECV\n",
    "from sklearn.model_selection import ShuffleSplit\n",
    "from sklearn.svm import SVC\n",
    "import warnings\n",
    "from sklearn.ensemble import BaggingClassifier as BC\n",
    "warnings.filterwarnings(\"ignore\", category=DeprecationWarning)\n",
    "scaler = StandardScaler()\n",
    "\n",
    "#the columns from 1 to 10 are all categorical features. So we need to fit One Hot Encoder only on them.\n",
    "categorical_features = [i for i in range(1,11)]\n",
    "enc = OneHotEncoder(categorical_features=categorical_features)\n",
    "y_target = credit_data[\"default payment next month\"]"
   ]
  },
  {
   "cell_type": "code",
   "execution_count": 7,
   "metadata": {
    "collapsed": true
   },
   "outputs": [],
   "source": [
    "#function to do all the data scaling and one hot encoding\n",
    "def data_prep(data):\n",
    "    #scaling the numerical values columns\n",
    "    data[cols_numerical] = scaler.fit_transform(data[cols_numerical])\n",
    "    #since the one hot encoder doesn't accept negative values, shifting each value by 2\n",
    "    data[cols_pay] = data[cols_pay].apply(lambda x: x+2)\n",
    "    #selection of all the rows for training\n",
    "    x = data.iloc[:,0:23]\n",
    "    #one hot encoding. Note that enc has been set on categorical features\n",
    "    x = enc.fit_transform(x)\n",
    "    return x"
   ]
  },
  {
   "cell_type": "code",
   "execution_count": 8,
   "metadata": {
    "collapsed": true
   },
   "outputs": [],
   "source": [
    "X_train = data_prep(credit_data)"
   ]
  },
  {
   "cell_type": "code",
   "execution_count": 9,
   "metadata": {
    "collapsed": true
   },
   "outputs": [],
   "source": [
    "#stratified sampling ensures that the test data follows the same pattern as the train data\n",
    "X_train, X_test, y_train, y_test = train_test_split(X_train, y_target,test_size=0.2, \n",
    "                                                    stratify=credit_data[\"default payment next month\"], \n",
    "                                                    random_state=42)"
   ]
  },
  {
   "cell_type": "code",
   "execution_count": 10,
   "metadata": {
    "collapsed": true
   },
   "outputs": [],
   "source": [
    "def gridsearch(X_train,y_train,X_test,y_test,model, params, scoring,cv=None):\n",
    "    gs_cv = GridSearchCV(model,params,scoring=scoring,n_jobs=-1,cv=cv)\n",
    "    gs_cv.fit(X_train, y_train)\n",
    "    y_pred_train = gs_cv.predict(X_train)\n",
    "    y_pred_test = gs_cv.predict(X_test)\n",
    "    print(\"----------------------------TRAINING DATA----------------------------\")\n",
    "    print(\"Accuracy on training set is: \"+str(accuracy_score(y_train,y_pred_train)))\n",
    "    print(\"F1 score on training set is: \"+str(f1_score(y_train,y_pred_train)))\n",
    "    print(\"Precision on training set is: \"+str(precision_score(y_train,y_pred_train)))\n",
    "    print(\"Recall on training set is: \"+str(recall_score(y_train,y_pred_train)))\n",
    "    print(\"----------------------------TEST DATA----------------------------\")     \n",
    "    print(\"Accuracy on test set is: \"+str(accuracy_score(y_test,y_pred_test)))\n",
    "    print(\"F1 score on test set is: \"+str(f1_score(y_test,y_pred_test)))\n",
    "    print(\"Precision on test set is: \"+str(precision_score(y_test,y_pred_test)))\n",
    "    print(\"Recall on test set is: \"+str(recall_score(y_test,y_pred_test)))\n",
    "    print(\"-----------------------------------------------------------------\")\n",
    "    print(\"BEST PARAMETERS BASED ON \"+scoring+\" AS A SCORING PARAMETER\")  \n",
    "    print(\"Best parameters: \"+str(gs_cv.best_params_))"
   ]
  },
  {
   "cell_type": "code",
   "execution_count": 11,
   "metadata": {
    "collapsed": true
   },
   "outputs": [],
   "source": [
    "svm_parameters = {'C': [0.001, 0.01, 0.1, 1, 10],'gamma':[0.001, 0.01, 0.1, 1, 10, 100, 1000]}"
   ]
  },
  {
   "cell_type": "code",
   "execution_count": 12,
   "metadata": {
    "collapsed": true
   },
   "outputs": [],
   "source": [
    "svm = SVC(kernel=\"rbf\",tol=0.1,cache_size=1000)"
   ]
  },
  {
   "cell_type": "code",
   "execution_count": 13,
   "metadata": {},
   "outputs": [
    {
     "name": "stdout",
     "output_type": "stream",
     "text": [
      "----------------------------TRAINING DATA----------------------------\n",
      "Accuracy on training set is: 0.855125\n",
      "F1 score on training set is: 0.571111385223\n",
      "Precision on training set is: 0.827376697641\n",
      "Recall on training set is: 0.436051987192\n",
      "----------------------------TEST DATA----------------------------\n",
      "Accuracy on test set is: 0.8075\n",
      "F1 score on test set is: 0.391143911439\n",
      "Precision on test set is: 0.650877192982\n",
      "Recall on test set is: 0.279577995479\n",
      "-----------------------------------------------------------------\n",
      "BEST PARAMETERS BASED ON accuracy AS A SCORING PARAMETER\n",
      "Best parameters: {'C': 1, 'gamma': 0.1}\n"
     ]
    }
   ],
   "source": [
    "gridsearch(X_train,y_train,X_test,y_test,svm,svm_parameters,\"accuracy\",3)"
   ]
  },
  {
   "cell_type": "code",
   "execution_count": 15,
   "metadata": {},
   "outputs": [
    {
     "name": "stdout",
     "output_type": "stream",
     "text": [
      "----------------------------TRAINING DATA----------------------------\n",
      "Accuracy on training set is: 0.808708333333\n",
      "F1 score on training set is: 0.697423054109\n",
      "Precision on training set is: 0.536394971614\n",
      "Recall on training set is: 0.996609530985\n",
      "----------------------------TEST DATA----------------------------\n",
      "Accuracy on test set is: 0.650166666667\n",
      "F1 score on test set is: 0.443383717847\n",
      "Precision on test set is: 0.342062193126\n",
      "Recall on test set is: 0.629992464205\n",
      "-----------------------------------------------------------------\n",
      "BEST PARAMETERS BASED ON f1 AS A SCORING PARAMETER\n",
      "Best parameters: {'C': 10, 'gamma': 0.1}\n"
     ]
    }
   ],
   "source": [
    "svm = SVC(kernel=\"rbf\",tol=0.01,cache_size=1000,class_weight={1:0.9,0:0.1})\n",
    "svm_parameters = {'C': [0.001, 0.01, 0.1, 1, 10],'gamma':[0.001, 0.01, 0.1, 1, 10, 100, 1000]}\n",
    "gridsearch(X_train,y_train,X_test,y_test,svm,svm_parameters,\"f1\",3)"
   ]
  },
  {
   "cell_type": "code",
   "execution_count": 17,
   "metadata": {},
   "outputs": [
    {
     "data": {
      "text/plain": [
       "BaggingClassifier(base_estimator=SVC(C=10, cache_size=1000, class_weight=None, coef0=0.0,\n",
       "  decision_function_shape='ovr', degree=3, gamma=10, kernel='rbf',\n",
       "  max_iter=-1, probability=False, random_state=None, shrinking=True,\n",
       "  tol=0.001, verbose=False),\n",
       "         bootstrap=True, bootstrap_features=False, max_features=1.0,\n",
       "         max_samples=0.0025, n_estimators=400, n_jobs=-1, oob_score=False,\n",
       "         random_state=None, verbose=0, warm_start=False)"
      ]
     },
     "execution_count": 17,
     "metadata": {},
     "output_type": "execute_result"
    }
   ],
   "source": [
    "#here I try to use bagging.\n",
    "\n",
    "n_estimators = 400\n",
    "clf = BC(base_estimator=SVC(kernel=\"rbf\",C=10,gamma=10,cache_size=1000),\n",
    "         max_samples=1/n_estimators, n_estimators=n_estimators,n_jobs=-1)\n",
    "clf.fit(X_train,y_train)"
   ]
  },
  {
   "cell_type": "code",
   "execution_count": 18,
   "metadata": {
    "collapsed": true
   },
   "outputs": [],
   "source": [
    "y_pred_train = clf.predict(X_train)"
   ]
  },
  {
   "cell_type": "code",
   "execution_count": 19,
   "metadata": {
    "collapsed": true
   },
   "outputs": [],
   "source": [
    "y_pred_test = clf.predict(X_test)"
   ]
  },
  {
   "cell_type": "code",
   "execution_count": 20,
   "metadata": {},
   "outputs": [
    {
     "name": "stdout",
     "output_type": "stream",
     "text": [
      "----------------------------TRAINING DATA----------------------------\n",
      "Accuracy on training set is: 0.778791666667\n",
      "F1 score on training set is: 0.0\n",
      "Precision on training set is: 0.0\n",
      "Recall on training set is: 0.0\n",
      "----------------------------TEST DATA----------------------------\n",
      "Accuracy on test set is: 0.778833333333\n",
      "F1 score on test set is: 0.0\n",
      "Precision on test set is: 0.0\n",
      "Recall on test set is: 0.0\n"
     ]
    },
    {
     "name": "stderr",
     "output_type": "stream",
     "text": [
      "/Users/rishiagarwal/Library/Python/3.6/lib/python/site-packages/sklearn/metrics/classification.py:1135: UndefinedMetricWarning: F-score is ill-defined and being set to 0.0 due to no predicted samples.\n",
      "  'precision', 'predicted', average, warn_for)\n",
      "/Users/rishiagarwal/Library/Python/3.6/lib/python/site-packages/sklearn/metrics/classification.py:1135: UndefinedMetricWarning: Precision is ill-defined and being set to 0.0 due to no predicted samples.\n",
      "  'precision', 'predicted', average, warn_for)\n"
     ]
    }
   ],
   "source": [
    "print(\"----------------------------TRAINING DATA----------------------------\")\n",
    "print(\"Accuracy on training set is: \"+str(accuracy_score(y_train,y_pred_train)))\n",
    "print(\"F1 score on training set is: \"+str(f1_score(y_train,y_pred_train)))\n",
    "print(\"Precision on training set is: \"+str(precision_score(y_train,y_pred_train)))\n",
    "print(\"Recall on training set is: \"+str(recall_score(y_train,y_pred_train)))\n",
    "print(\"----------------------------TEST DATA----------------------------\")     \n",
    "print(\"Accuracy on test set is: \"+str(accuracy_score(y_test,y_pred_test)))\n",
    "print(\"F1 score on test set is: \"+str(f1_score(y_test,y_pred_test)))\n",
    "print(\"Precision on test set is: \"+str(precision_score(y_test,y_pred_test)))\n",
    "print(\"Recall on test set is: \"+str(recall_score(y_test,y_pred_test)))"
   ]
  },
  {
   "cell_type": "code",
   "execution_count": 21,
   "metadata": {
    "collapsed": true
   },
   "outputs": [],
   "source": [
    "param_grid={\"n_estimators\":[10,50,100,500,1000,2000],'max_samples': [0.1,0.5,0.6, 0.8, 1.0]}"
   ]
  },
  {
   "cell_type": "code",
   "execution_count": null,
   "metadata": {},
   "outputs": [
    {
     "name": "stderr",
     "output_type": "stream",
     "text": [
      "/Users/rishiagarwal/Library/Python/3.6/lib/python/site-packages/sklearn/metrics/classification.py:1135: UndefinedMetricWarning: F-score is ill-defined and being set to 0.0 due to no predicted samples.\n",
      "  'precision', 'predicted', average, warn_for)\n",
      "/Users/rishiagarwal/Library/Python/3.6/lib/python/site-packages/sklearn/metrics/classification.py:1135: UndefinedMetricWarning: F-score is ill-defined and being set to 0.0 due to no predicted samples.\n",
      "  'precision', 'predicted', average, warn_for)\n",
      "/Users/rishiagarwal/Library/Python/3.6/lib/python/site-packages/sklearn/metrics/classification.py:1135: UndefinedMetricWarning: F-score is ill-defined and being set to 0.0 due to no predicted samples.\n",
      "  'precision', 'predicted', average, warn_for)\n",
      "/Users/rishiagarwal/Library/Python/3.6/lib/python/site-packages/sklearn/metrics/classification.py:1135: UndefinedMetricWarning: F-score is ill-defined and being set to 0.0 due to no predicted samples.\n",
      "  'precision', 'predicted', average, warn_for)\n",
      "/Users/rishiagarwal/Library/Python/3.6/lib/python/site-packages/sklearn/metrics/classification.py:1135: UndefinedMetricWarning: F-score is ill-defined and being set to 0.0 due to no predicted samples.\n",
      "  'precision', 'predicted', average, warn_for)\n",
      "/Users/rishiagarwal/Library/Python/3.6/lib/python/site-packages/sklearn/metrics/classification.py:1135: UndefinedMetricWarning: F-score is ill-defined and being set to 0.0 due to no predicted samples.\n",
      "  'precision', 'predicted', average, warn_for)\n",
      "/Users/rishiagarwal/Library/Python/3.6/lib/python/site-packages/sklearn/metrics/classification.py:1135: UndefinedMetricWarning: F-score is ill-defined and being set to 0.0 due to no predicted samples.\n",
      "  'precision', 'predicted', average, warn_for)\n",
      "/Users/rishiagarwal/Library/Python/3.6/lib/python/site-packages/sklearn/metrics/classification.py:1135: UndefinedMetricWarning: F-score is ill-defined and being set to 0.0 due to no predicted samples.\n",
      "  'precision', 'predicted', average, warn_for)\n",
      "/Users/rishiagarwal/Library/Python/3.6/lib/python/site-packages/sklearn/metrics/classification.py:1135: UndefinedMetricWarning: F-score is ill-defined and being set to 0.0 due to no predicted samples.\n",
      "  'precision', 'predicted', average, warn_for)\n",
      "/Users/rishiagarwal/Library/Python/3.6/lib/python/site-packages/sklearn/metrics/classification.py:1135: UndefinedMetricWarning: F-score is ill-defined and being set to 0.0 due to no predicted samples.\n",
      "  'precision', 'predicted', average, warn_for)\n",
      "/Users/rishiagarwal/Library/Python/3.6/lib/python/site-packages/sklearn/metrics/classification.py:1135: UndefinedMetricWarning: F-score is ill-defined and being set to 0.0 due to no predicted samples.\n",
      "  'precision', 'predicted', average, warn_for)\n",
      "/Users/rishiagarwal/Library/Python/3.6/lib/python/site-packages/sklearn/metrics/classification.py:1135: UndefinedMetricWarning: F-score is ill-defined and being set to 0.0 due to no predicted samples.\n",
      "  'precision', 'predicted', average, warn_for)\n",
      "/Users/rishiagarwal/Library/Python/3.6/lib/python/site-packages/sklearn/metrics/classification.py:1135: UndefinedMetricWarning: F-score is ill-defined and being set to 0.0 due to no predicted samples.\n",
      "  'precision', 'predicted', average, warn_for)\n",
      "/Users/rishiagarwal/Library/Python/3.6/lib/python/site-packages/sklearn/metrics/classification.py:1135: UndefinedMetricWarning: F-score is ill-defined and being set to 0.0 due to no predicted samples.\n",
      "  'precision', 'predicted', average, warn_for)\n",
      "/Users/rishiagarwal/Library/Python/3.6/lib/python/site-packages/sklearn/metrics/classification.py:1135: UndefinedMetricWarning: F-score is ill-defined and being set to 0.0 due to no predicted samples.\n",
      "  'precision', 'predicted', average, warn_for)\n"
     ]
    }
   ],
   "source": [
    "clf = BC(base_estimator=SVC(kernel=\"rbf\",C=10,gamma=10,cache_size=1000))\n",
    "gridsearch(X_train,y_train,X_test,y_test,clf,param_grid,\"f1\",3)"
   ]
  },
  {
   "cell_type": "code",
   "execution_count": null,
   "metadata": {
    "collapsed": true
   },
   "outputs": [],
   "source": [
    "#as it can be seen that using bagging doesn't give good results."
   ]
  },
  {
   "cell_type": "code",
   "execution_count": null,
   "metadata": {
    "collapsed": true
   },
   "outputs": [],
   "source": []
  },
  {
   "cell_type": "code",
   "execution_count": null,
   "metadata": {
    "collapsed": true
   },
   "outputs": [],
   "source": []
  },
  {
   "cell_type": "code",
   "execution_count": null,
   "metadata": {
    "collapsed": true
   },
   "outputs": [],
   "source": [
    "#downsampling to reduce the computation time. "
   ]
  }
 ],
 "metadata": {
  "kernelspec": {
   "display_name": "Python 3",
   "language": "python",
   "name": "python3"
  },
  "language_info": {
   "codemirror_mode": {
    "name": "ipython",
    "version": 3
   },
   "file_extension": ".py",
   "mimetype": "text/x-python",
   "name": "python",
   "nbconvert_exporter": "python",
   "pygments_lexer": "ipython3",
   "version": "3.6.1"
  }
 },
 "nbformat": 4,
 "nbformat_minor": 2
}
