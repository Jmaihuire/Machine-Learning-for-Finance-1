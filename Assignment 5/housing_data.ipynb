{
 "cells": [
  {
   "cell_type": "code",
   "execution_count": 1,
   "metadata": {
    "collapsed": true
   },
   "outputs": [],
   "source": [
    "import pandas as pd\n",
    "import numpy as np\n",
    "import os\n",
    "import matplotlib.pyplot as plt"
   ]
  },
  {
   "cell_type": "code",
   "execution_count": 2,
   "metadata": {
    "collapsed": true
   },
   "outputs": [],
   "source": [
    "os.chdir(\"/Users/Hatim/Desktop/assignment 5\")\n",
    "data = pd.read_csv(\"home_prices_train.csv\",index_col=0)"
   ]
  },
  {
   "cell_type": "code",
   "execution_count": 4,
   "metadata": {},
   "outputs": [],
   "source": [
    "#removing outliers\n",
    "data = data[data[\"GrLivArea\"]<4000]\n",
    "\n",
    "#treating missing data\n",
    "def missing_data_treatment(dataframe):\n",
    "    \"It is likely that no street is connected to the property and hence the LotFrontage is zero\"\n",
    "    dataframe.loc[:,\"LotFrontage\"] = dataframe.loc[:,\"LotFrontage\"].fillna(0)\n",
    "    \"There is no alley access when Alley = NaN\"\n",
    "    dataframe.loc[:,\"Alley\"] = dataframe.loc[:,\"Alley\"].fillna(\"NoAlleyAccess\")\n",
    "    \"No Basement when NaN values present in BsmtQual,BsmtCond,BsmtExposure,BsmtFinType1,BsmtFinType2\"\n",
    "    dataframe.loc[:,\"BsmtQual\"] = dataframe.loc[:,\"BsmtQual\"].fillna(\"No\")\n",
    "    dataframe.loc[:,\"BsmtCond\"] = dataframe.loc[:,\"BsmtCond\"].fillna(\"No\")\n",
    "    dataframe.loc[:,\"BsmtExposure\"] = dataframe.loc[:,\"BsmtExposure\"].fillna(\"No\")\n",
    "    dataframe.loc[:,\"BsmtFinType1\"] = dataframe.loc[:,\"BsmtFinType1\"].fillna(\"No\")\n",
    "    dataframe.loc[:,\"BsmtFinType2\"] = dataframe.loc[:,\"BsmtFinType2\"].fillna(\"No\")\n",
    "    \"NaN in Electrical means No Electrial System\"\n",
    "    dataframe.loc[:,\"Electrical\"] = dataframe.loc[:,\"Electrical\"].fillna(\"NoElectricalSystem\")\n",
    "    \"NaN in FireplaceQu means no Fireplace present\"\n",
    "    dataframe.loc[:,\"FireplaceQu\"] = dataframe.loc[:,\"FireplaceQu\"].fillna(\"NoFireplacePresent\")\n",
    "    \"No Garage present wherever there is NaN in garage related fields as discussed in the above cell\"\n",
    "    dataframe.loc[:,\"GarageType\"] = dataframe.loc[:,\"GarageType\"].fillna(\"NoGarage\")\n",
    "    dataframe.loc[:,\"GarageYrBlt\"] = dataframe.loc[:,\"GarageYrBlt\"].fillna(\"NoGarage\")\n",
    "    dataframe.loc[:,\"GarageFinish\"] = dataframe.loc[:,\"GarageFinish\"].fillna(\"NoGarage\")\n",
    "    dataframe.loc[:,\"GarageQual\"] = dataframe.loc[:,\"GarageQual\"].fillna(\"NoGarage\")\n",
    "    dataframe.loc[:,\"GarageCond\"] = dataframe.loc[:,\"GarageCond\"].fillna(\"NoGarage\")\n",
    "    \"Similarly for other variables\"\n",
    "    dataframe.loc[:,\"PoolQC\"] = dataframe.loc[:,\"PoolQC\"].fillna(\"NoPool\")\n",
    "    dataframe.loc[:,\"Fence\"] = dataframe.loc[:,\"Fence\"].fillna(\"NoFence\")\n",
    "    dataframe.loc[:,\"MiscFeature\"] = dataframe.loc[:,\"MiscFeature\"].fillna(\"NoMisc\")\n",
    "    \"\"\"MasVnrType and MasVnrArea also has NaN values. We cannot comment anything on those NaN values because it \n",
    "    already has the field None. We cannot assume those NaN values to be None. The other option would be to drop those \n",
    "    NaN values. But since out of those 8 values one of them has a sales price of 465000, it wouldn't be wise to \n",
    "    drop those 8 values. Only option left is to assume it to be None and 0.\"\"\"\n",
    "    dataframe.loc[:,\"MasVnrType\"] = dataframe.loc[:,\"MasVnrType\"].fillna(\"None\")\n",
    "    dataframe.loc[:,\"MasVnrArea\"] = dataframe.loc[:,\"MasVnrArea\"].fillna(0)\n",
    "    \n",
    "#calling the missing data treatment function on the data\n",
    "missing_data_treatment(data)"
   ]
  },
  {
   "cell_type": "code",
   "execution_count": 7,
   "metadata": {
    "collapsed": true
   },
   "outputs": [],
   "source": [
    "data['SaleCondition'] = data['SaleCondition'].astype('category')\n",
    "data['SaleCondition'] = data['SaleCondition'].cat.reorder_categories(['Abnorml', 'Partial', \"AdjLand\",'Alloca',\"Normal\",\"Family\"], ordered=True)\n",
    "data['SaleCondition'] = data['SaleCondition'].cat.codes\n",
    "data['Functional'] = data['Functional'].astype('category')\n",
    "data['Functional'] = data['Functional'].cat.reorder_categories(['Typ','Min1','Min2','Mod','Maj1','Maj2','Sev'])\n",
    "data[\"Functional\"] = data['Functional'].cat.codes\n",
    "data['ExterQual'] = data['ExterQual'].astype('category')\n",
    "data['ExterQual'] = data['ExterQual'].cat.reorder_categories(['Ex','Gd','TA','Fa'])\n",
    "data[\"ExterQual\"] = data['ExterQual'].cat.codes\n",
    "data['ExterCond'] = data['ExterCond'].astype('category')\n",
    "data['ExterCond'] = data['ExterCond'].cat.reorder_categories(['Ex','Gd','TA','Fa','Po'])\n",
    "data[\"ExterCond\"] = data['ExterCond'].cat.codes"
   ]
  },
  {
   "cell_type": "code",
   "execution_count": 22,
   "metadata": {
    "collapsed": true
   },
   "outputs": [],
   "source": [
    "def gridsearch(X_train,y_train,X_test,y_test,model, params, scoring,cv=None):\n",
    "    gs_cv = GridSearchCV(model,params,scoring=scoring,n_jobs=-1,cv=cv)\n",
    "    gs_cv.fit(X_train, y_train)\n",
    "    y_pred_train = gs_cv.predict(X_train)\n",
    "    y_pred_test = gs_cv.predict(X_test)\n",
    "    print(\"----------------------------TRAINING DATA----------------------------\")\n",
    "    print(\"mean_squared_error on training set is: \"+str(mean_squared_error(y_train,y_pred_train)))\n",
    "    print(\"r2_score score on training set is: \"+str(r2_score(y_train,y_pred_train)))\n",
    "    print(\"----------------------------TEST DATA----------------------------\")     \n",
    "    print(\"mean_squared_error on test set is: \"+str(mean_squared_error(y_test,y_pred_test)))\n",
    "    print(\"r2_score on test set is: \"+str(r2_score(y_test,y_pred_test)))\n",
    "    print(\"-----------------------------------------------------------------\")\n",
    "    print(\"BEST PARAMETERS BASED ON \"+scoring+\" AS A SCORING PARAMETER\")  \n",
    "    print(\"Best parameters: \"+str(gs_cv.best_params_))"
   ]
  },
  {
   "cell_type": "code",
   "execution_count": 21,
   "metadata": {},
   "outputs": [],
   "source": [
    "from sklearn.preprocessing import StandardScaler\n",
    "from sklearn.preprocessing import OneHotEncoder\n",
    "from sklearn.cross_validation import train_test_split, cross_val_score\n",
    "from sklearn.linear_model import LogisticRegression\n",
    "from sklearn.grid_search import GridSearchCV\n",
    "from sklearn.metrics import mean_squared_error, r2_score\n",
    "from sklearn.feature_selection import RFECV\n",
    "from sklearn.model_selection import ShuffleSplit\n",
    "from sklearn.feature_selection import SelectKBest, f_classif\n",
    "from sklearn.ensemble import RandomForestRegressor\n",
    "import warnings\n",
    "warnings.simplefilter(action='ignore', category=(UserWarning,RuntimeWarning,DeprecationWarning))"
   ]
  },
  {
   "cell_type": "code",
   "execution_count": 29,
   "metadata": {},
   "outputs": [],
   "source": [
    "scaler = StandardScaler()\n",
    "X=data[[\"LotFrontage\",\"GrLivArea\",\"OverallQual\",\"OverallCond\",\"YearBuilt\",\"Functional\",\"TotRmsAbvGrd\",\"LotArea\",\"ExterQual\",\"1stFlrSF\",\n",
    "      \"GarageArea\",\"BedroomAbvGr\",\"KitchenAbvGr\",\"2ndFlrSF\"]]\n",
    "y=data[\"SalePrice\"]"
   ]
  },
  {
   "cell_type": "code",
   "execution_count": 13,
   "metadata": {},
   "outputs": [],
   "source": [
    "X_train, X_test, y_train, y_test = train_test_split(X, y, test_size=0.2, random_state=42)"
   ]
  },
  {
   "cell_type": "code",
   "execution_count": 15,
   "metadata": {
    "collapsed": true
   },
   "outputs": [],
   "source": [
    "rnd_reg = RandomForestRegressor(n_estimators = 500,n_jobs = -1)"
   ]
  },
  {
   "cell_type": "code",
   "execution_count": 16,
   "metadata": {
    "collapsed": true
   },
   "outputs": [],
   "source": [
    "params_grid = {'max_features': ['auto', 'sqrt', 'log2'],\"max_depth\":[None,8,9,10,11],\n",
    "               \"min_weight_fraction_leaf\":[0.0,0.3,0.5]}"
   ]
  },
  {
   "cell_type": "code",
   "execution_count": 23,
   "metadata": {},
   "outputs": [
    {
     "name": "stdout",
     "output_type": "stream",
     "text": [
      "----------------------------TRAINING DATA----------------------------\n",
      "mean_squared_error on training set is: 102350841.159\n",
      "r2_score score on training set is: 0.983024529375\n",
      "----------------------------TEST DATA----------------------------\n",
      "mean_squared_error on test set is: 644486979.274\n",
      "r2_score on test set is: 0.877203580469\n",
      "-----------------------------------------------------------------\n",
      "BEST PARAMETERS BASED ON r2 AS A SCORING PARAMETER\n",
      "Best parameters: {'max_depth': None, 'max_features': 'sqrt', 'min_weight_fraction_leaf': 0.0}\n"
     ]
    }
   ],
   "source": [
    "gridsearch(X_train,y_train,X_test,y_test,rnd_reg, params_grid, \"r2\",cv=10)"
   ]
  },
  {
   "cell_type": "code",
   "execution_count": 25,
   "metadata": {},
   "outputs": [
    {
     "name": "stdout",
     "output_type": "stream",
     "text": [
      "oob_score 0.875514282266\n",
      "Functional 0.00330416143926\n",
      "KitchenAbvGr 0.0048387766224\n",
      "BedroomAbvGr 0.0118692593498\n",
      "OverallCond 0.0139343820962\n",
      "LotFrontage 0.025531064328\n",
      "2ndFlrSF 0.0413537789821\n",
      "TotRmsAbvGrd 0.0420313260821\n",
      "LotArea 0.0527372713087\n",
      "YearBuilt 0.100704981612\n",
      "GarageArea 0.107900954135\n",
      "1stFlrSF 0.108530574084\n",
      "ExterQual 0.117419671145\n",
      "GrLivArea 0.145417928778\n",
      "OverallQual 0.224425870037\n"
     ]
    }
   ],
   "source": [
    "#using the above parameters, fitting a random regressor to our data \n",
    "rnd_reg = RandomForestRegressor(n_estimators = 500,max_depth=None,max_features=\"sqrt\",n_jobs = -1,oob_score=True)\n",
    "rnd_reg.fit(X,y)\n",
    "print(\"oob_score \"+str(rnd_reg.oob_score_))\n",
    "for score, name in sorted(zip(rnd_reg.feature_importances_,X.columns)):\n",
    "    print(name,score)"
   ]
  },
  {
   "cell_type": "code",
   "execution_count": 26,
   "metadata": {},
   "outputs": [
    {
     "name": "stdout",
     "output_type": "stream",
     "text": [
      "oob_score 0.873954320023\n"
     ]
    }
   ],
   "source": [
    "#dropping fucntional, kitchenabvgr, bedroomabvgr\n",
    "X = X.drop(labels=[\"Functional\",\"KitchenAbvGr\",\"BedroomAbvGr\"],axis=1)\n",
    "rnd_reg = RandomForestRegressor(n_estimators = 500,max_depth=None,max_features=\"sqrt\",n_jobs = -1,oob_score=True)\n",
    "rnd_reg.fit(X,y)\n",
    "print(\"oob_score \"+str(rnd_reg.oob_score_))"
   ]
  },
  {
   "cell_type": "code",
   "execution_count": 27,
   "metadata": {
    "collapsed": true
   },
   "outputs": [],
   "source": [
    "#decrease in oob score"
   ]
  },
  {
   "cell_type": "code",
   "execution_count": 28,
   "metadata": {},
   "outputs": [
    {
     "name": "stdout",
     "output_type": "stream",
     "text": [
      "----------------------------TRAINING DATA----------------------------\n",
      "mean_squared_error on training set is: 103393765.683\n",
      "r2_score score on training set is: 0.982851554396\n",
      "----------------------------TEST DATA----------------------------\n",
      "mean_squared_error on test set is: 651582908.728\n",
      "r2_score on test set is: 0.875851567537\n",
      "-----------------------------------------------------------------\n",
      "BEST PARAMETERS BASED ON neg_mean_squared_error AS A SCORING PARAMETER\n",
      "Best parameters: {'max_depth': None, 'max_features': 'log2', 'min_weight_fraction_leaf': 0.0}\n"
     ]
    }
   ],
   "source": [
    "gridsearch(X_train,y_train,X_test,y_test,rnd_reg, params_grid, \"neg_mean_squared_error\",cv=10)"
   ]
  },
  {
   "cell_type": "code",
   "execution_count": 30,
   "metadata": {},
   "outputs": [
    {
     "name": "stdout",
     "output_type": "stream",
     "text": [
      "oob_score 0.876406567512\n",
      "Functional 0.00346708168588\n",
      "KitchenAbvGr 0.00403101929474\n",
      "BedroomAbvGr 0.0117242058602\n",
      "OverallCond 0.0131737346431\n",
      "LotFrontage 0.0256169001186\n",
      "2ndFlrSF 0.0408139072587\n",
      "TotRmsAbvGrd 0.045451604404\n",
      "LotArea 0.0542070236801\n",
      "GarageArea 0.0983542421289\n",
      "YearBuilt 0.0986034924911\n",
      "1stFlrSF 0.101083665413\n",
      "ExterQual 0.109192859344\n",
      "GrLivArea 0.150917791843\n",
      "OverallQual 0.243362471835\n"
     ]
    }
   ],
   "source": [
    "#using the above parameters, fitting a random regressor to our data\n",
    "rnd_reg = RandomForestRegressor(n_estimators = 500,max_depth=None,max_features=\"log2\",n_jobs = -1,oob_score=True)\n",
    "rnd_reg.fit(X,y)\n",
    "print(\"oob_score \"+str(rnd_reg.oob_score_))\n",
    "for score, name in sorted(zip(rnd_reg.feature_importances_,X.columns)):\n",
    "    print(name,score)"
   ]
  },
  {
   "cell_type": "code",
   "execution_count": 31,
   "metadata": {},
   "outputs": [
    {
     "name": "stdout",
     "output_type": "stream",
     "text": [
      "oob_score 0.872538381536\n"
     ]
    }
   ],
   "source": [
    "#dropping fucntional, kitchenabvgr, bedroomabvgr\n",
    "X = X.drop(labels=[\"Functional\",\"KitchenAbvGr\",\"BedroomAbvGr\"],axis=1)\n",
    "rnd_reg = RandomForestRegressor(n_estimators = 500,max_depth=None,max_features=\"log2\",n_jobs = -1,oob_score=True)\n",
    "rnd_reg.fit(X,y)\n",
    "print(\"oob_score \"+str(rnd_reg.oob_score_))"
   ]
  },
  {
   "cell_type": "code",
   "execution_count": 32,
   "metadata": {
    "collapsed": true
   },
   "outputs": [],
   "source": [
    "#decrease in oob score"
   ]
  },
  {
   "cell_type": "code",
   "execution_count": 39,
   "metadata": {},
   "outputs": [],
   "source": [
    "#selecting the same variables as linear regression\n",
    "X=data[[\"GrLivArea\",\"OverallQual\",\"YearBuilt\",\"Functional\",\"LotArea\",\"ExterQual\",\"1stFlrSF\",\"2ndFlrSF\"]]\n",
    "X_train, X_test, y_train, y_test = train_test_split(X, y, test_size=0.2, random_state=42)"
   ]
  },
  {
   "cell_type": "code",
   "execution_count": 35,
   "metadata": {},
   "outputs": [
    {
     "name": "stdout",
     "output_type": "stream",
     "text": [
      "----------------------------TRAINING DATA----------------------------\n",
      "mean_squared_error on training set is: 182187139.889\n",
      "r2_score score on training set is: 0.969783223993\n",
      "----------------------------TEST DATA----------------------------\n",
      "mean_squared_error on test set is: 667157598.596\n",
      "r2_score on test set is: 0.872884065923\n",
      "-----------------------------------------------------------------\n",
      "BEST PARAMETERS BASED ON r2 AS A SCORING PARAMETER\n",
      "Best parameters: {'max_depth': 11, 'max_features': 'sqrt', 'min_weight_fraction_leaf': 0.0}\n"
     ]
    }
   ],
   "source": [
    "gridsearch(X_train,y_train,X_test,y_test,rnd_reg, params_grid, \"r2\",cv=10)"
   ]
  },
  {
   "cell_type": "code",
   "execution_count": 36,
   "metadata": {},
   "outputs": [
    {
     "name": "stdout",
     "output_type": "stream",
     "text": [
      "oob_score 0.867254734592\n",
      "Functional 0.00623130041241\n",
      "2ndFlrSF 0.0611593819661\n",
      "LotArea 0.0763446744623\n",
      "YearBuilt 0.12278217856\n",
      "ExterQual 0.138820798522\n",
      "1stFlrSF 0.153959222408\n",
      "GrLivArea 0.184001828068\n",
      "OverallQual 0.256700615601\n"
     ]
    }
   ],
   "source": [
    "#using the above parameters, fitting a random regressor to our data \n",
    "rnd_reg = RandomForestRegressor(n_estimators = 500,max_depth=11,max_features=\"sqrt\",n_jobs = -1,oob_score=True)\n",
    "rnd_reg.fit(X,y)\n",
    "print(\"oob_score \"+str(rnd_reg.oob_score_))\n",
    "for score, name in sorted(zip(rnd_reg.feature_importances_,X.columns)):\n",
    "    print(name,score)"
   ]
  },
  {
   "cell_type": "code",
   "execution_count": 40,
   "metadata": {},
   "outputs": [
    {
     "name": "stdout",
     "output_type": "stream",
     "text": [
      "oob_score 0.865071656999\n"
     ]
    }
   ],
   "source": [
    "X = X.drop(labels=[\"Functional\",\"2ndFlrSF\"],axis=1)\n",
    "rnd_reg = RandomForestRegressor(n_estimators = 500,max_depth=11,max_features=\"sqrt\",n_jobs = -1,oob_score=True)\n",
    "rnd_reg.fit(X,y)\n",
    "print(\"oob_score \"+str(rnd_reg.oob_score_))"
   ]
  },
  {
   "cell_type": "code",
   "execution_count": 41,
   "metadata": {
    "collapsed": true
   },
   "outputs": [],
   "source": [
    "#decrease in oob score."
   ]
  },
  {
   "cell_type": "code",
   "execution_count": 42,
   "metadata": {},
   "outputs": [
    {
     "name": "stdout",
     "output_type": "stream",
     "text": [
      "----------------------------TRAINING DATA----------------------------\n",
      "mean_squared_error on training set is: 200603136.857\n",
      "r2_score score on training set is: 0.966728825885\n",
      "----------------------------TEST DATA----------------------------\n",
      "mean_squared_error on test set is: 701392183.608\n",
      "r2_score on test set is: 0.866361227451\n",
      "-----------------------------------------------------------------\n",
      "BEST PARAMETERS BASED ON neg_mean_squared_error AS A SCORING PARAMETER\n",
      "Best parameters: {'max_depth': 10, 'max_features': 'log2', 'min_weight_fraction_leaf': 0.0}\n"
     ]
    }
   ],
   "source": [
    "gridsearch(X_train,y_train,X_test,y_test,rnd_reg, params_grid, \"neg_mean_squared_error\",cv=10)"
   ]
  },
  {
   "cell_type": "code",
   "execution_count": 43,
   "metadata": {},
   "outputs": [
    {
     "name": "stdout",
     "output_type": "stream",
     "text": [
      "oob_score 0.866779951001\n",
      "LotArea 0.072347515251\n",
      "YearBuilt 0.131219880901\n",
      "1stFlrSF 0.136746793843\n",
      "ExterQual 0.154551865629\n",
      "GrLivArea 0.218452704252\n",
      "OverallQual 0.286681240123\n"
     ]
    }
   ],
   "source": [
    "#using the above parameters, fitting a random regressor to our data \n",
    "rnd_reg = RandomForestRegressor(n_estimators = 500,max_depth=10,max_features=\"log2\",n_jobs = -1,oob_score=True)\n",
    "rnd_reg.fit(X,y)\n",
    "print(\"oob_score \"+str(rnd_reg.oob_score_))\n",
    "for score, name in sorted(zip(rnd_reg.feature_importances_,X.columns)):\n",
    "    print(name,score)"
   ]
  },
  {
   "cell_type": "code",
   "execution_count": null,
   "metadata": {
    "collapsed": true
   },
   "outputs": [],
   "source": [
    "#Random Forest Regressor performed better than Linear regression and SVR"
   ]
  }
 ],
 "metadata": {
  "kernelspec": {
   "display_name": "Python 3",
   "language": "python",
   "name": "python3"
  },
  "language_info": {
   "codemirror_mode": {
    "name": "ipython",
    "version": 3
   },
   "file_extension": ".py",
   "mimetype": "text/x-python",
   "name": "python",
   "nbconvert_exporter": "python",
   "pygments_lexer": "ipython3",
   "version": "3.6.3"
  }
 },
 "nbformat": 4,
 "nbformat_minor": 2
}
