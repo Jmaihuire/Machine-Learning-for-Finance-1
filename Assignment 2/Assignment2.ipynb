{
 "cells": [
  {
   "cell_type": "code",
   "execution_count": 1,
   "metadata": {
    "collapsed": true
   },
   "outputs": [],
   "source": [
    "import pandas as pd\n",
    "import numpy as np\n",
    "import os\n",
    "import matplotlib.pyplot as plt\n",
    "from sklearn.linear_model import LinearRegression"
   ]
  },
  {
   "cell_type": "code",
   "execution_count": 2,
   "metadata": {
    "collapsed": true
   },
   "outputs": [],
   "source": [
    "os.chdir(\"/Users/Hatim/Downloads/\")"
   ]
  },
  {
   "cell_type": "code",
   "execution_count": 3,
   "metadata": {
    "collapsed": true
   },
   "outputs": [],
   "source": [
    "df = pd.read_csv(\"home_prices_train.csv\",index_col = 0)"
   ]
  },
  {
   "cell_type": "code",
   "execution_count": 4,
   "metadata": {
    "collapsed": false
   },
   "outputs": [
    {
     "data": {
      "image/png": "[encoded data removed]",
      "text/plain": [
       "<matplotlib.figure.Figure at 0x10d8e88d0>"
      ]
     },
     "metadata": {},
     "output_type": "display_data"
    }
   ],
   "source": [
    "plt.plot(df['GrLivArea'],df['SalePrice'],'ro')\n",
    "plt.xlabel(\"Gr Liv Area\")\n",
    "plt.ylabel(\"Sale Price\")\n",
    "plt.show()"
   ]
  },
  {
   "cell_type": "code",
   "execution_count": 5,
   "metadata": {
    "collapsed": false
   },
   "outputs": [],
   "source": [
    "#As it can be seen that there are few outliers. Removing those outliers to get better results.\n",
    "df = df[df[\"GrLivArea\"]<4000]"
   ]
  },
  {
   "cell_type": "code",
   "execution_count": 6,
   "metadata": {
    "collapsed": false
   },
   "outputs": [
    {
     "name": "stdout",
     "output_type": "stream",
     "text": [
      "MSSubClass          0\n",
      "MSZoning            0\n",
      "LotFrontage       259\n",
      "LotArea             0\n",
      "Street              0\n",
      "Alley            1365\n",
      "LotShape            0\n",
      "LandContour         0\n",
      "Utilities           0\n",
      "LotConfig           0\n",
      "LandSlope           0\n",
      "Neighborhood        0\n",
      "Condition1          0\n",
      "Condition2          0\n",
      "BldgType            0\n",
      "HouseStyle          0\n",
      "OverallQual         0\n",
      "OverallCond         0\n",
      "YearBuilt           0\n",
      "YearRemodAdd        0\n",
      "RoofStyle           0\n",
      "RoofMatl            0\n",
      "Exterior1st         0\n",
      "Exterior2nd         0\n",
      "MasVnrType          8\n",
      "MasVnrArea          8\n",
      "ExterQual           0\n",
      "ExterCond           0\n",
      "Foundation          0\n",
      "BsmtQual           37\n",
      "BsmtCond           37\n",
      "BsmtExposure       38\n",
      "BsmtFinType1       37\n",
      "BsmtFinSF1          0\n",
      "BsmtFinType2       38\n",
      "BsmtFinSF2          0\n",
      "BsmtUnfSF           0\n",
      "TotalBsmtSF         0\n",
      "Heating             0\n",
      "HeatingQC           0\n",
      "CentralAir          0\n",
      "Electrical          1\n",
      "1stFlrSF            0\n",
      "2ndFlrSF            0\n",
      "LowQualFinSF        0\n",
      "GrLivArea           0\n",
      "BsmtFullBath        0\n",
      "BsmtHalfBath        0\n",
      "FullBath            0\n",
      "HalfBath            0\n",
      "BedroomAbvGr        0\n",
      "KitchenAbvGr        0\n",
      "KitchenQual         0\n",
      "TotRmsAbvGrd        0\n",
      "Functional          0\n",
      "Fireplaces          0\n",
      "FireplaceQu       690\n",
      "GarageType         81\n",
      "GarageYrBlt        81\n",
      "GarageFinish       81\n",
      "GarageCars          0\n",
      "GarageArea          0\n",
      "GarageQual         81\n",
      "GarageCond         81\n",
      "PavedDrive          0\n",
      "WoodDeckSF          0\n",
      "OpenPorchSF         0\n",
      "EnclosedPorch       0\n",
      "3SsnPorch           0\n",
      "ScreenPorch         0\n",
      "PoolArea            0\n",
      "PoolQC           1451\n",
      "Fence            1176\n",
      "MiscFeature      1402\n",
      "MiscVal             0\n",
      "MoSold              0\n",
      "YrSold              0\n",
      "SaleType            0\n",
      "SaleCondition       0\n",
      "SalePrice           0\n"
     ]
    }
   ],
   "source": [
    "##checking for NaN values\n",
    "print(df.isnull().sum(axis=0).to_string())"
   ]
  },
  {
   "cell_type": "raw",
   "metadata": {},
   "source": [
    "As it can be seen that there are many NaN values. This doesn't mean that the data is missing.\n",
    "These NaN values have some meaning to it. For example, when there is no Garage present which\n",
    "is inferred by looking at the Garage Count (Count = 0), we will not have any data\n",
    "on the quality of the Garage and hence it is NaN. So here we can replace NaN with \"Garage Not Present\" or \n",
    "something on similar lines.\n"
   ]
  },
  {
   "cell_type": "code",
   "execution_count": 7,
   "metadata": {
    "collapsed": true
   },
   "outputs": [],
   "source": [
    "def missing_data_treatment(dataframe):\n",
    "    \"It is likely that no street is connected to the property and hence the LotFrontage is zero\"\n",
    "    dataframe.loc[:,\"LotFrontage\"] = dataframe.loc[:,\"LotFrontage\"].fillna(0)\n",
    "    \"There is no alley access when Alley = NaN\"\n",
    "    dataframe.loc[:,\"Alley\"] = dataframe.loc[:,\"Alley\"].fillna(\"NoAlleyAccess\")\n",
    "    \"No Basement when NaN values present in BsmtQual,BsmtCond,BsmtExposure,BsmtFinType1,BsmtFinType2\"\n",
    "    dataframe.loc[:,\"BsmtQual\"] = dataframe.loc[:,\"BsmtQual\"].fillna(\"No\")\n",
    "    dataframe.loc[:,\"BsmtCond\"] = dataframe.loc[:,\"BsmtCond\"].fillna(\"No\")\n",
    "    dataframe.loc[:,\"BsmtExposure\"] = dataframe.loc[:,\"BsmtExposure\"].fillna(\"No\")\n",
    "    dataframe.loc[:,\"BsmtFinType1\"] = dataframe.loc[:,\"BsmtFinType1\"].fillna(\"No\")\n",
    "    dataframe.loc[:,\"BsmtFinType2\"] = dataframe.loc[:,\"BsmtFinType2\"].fillna(\"No\")\n",
    "    \"NaN in Electrical means No Electrial System\"\n",
    "    dataframe.loc[:,\"Electrical\"] = dataframe.loc[:,\"Electrical\"].fillna(\"NoElectricalSystem\")\n",
    "    \"NaN in FireplaceQu means no Fireplace present\"\n",
    "    dataframe.loc[:,\"FireplaceQu\"] = dataframe.loc[:,\"FireplaceQu\"].fillna(\"NoFireplacePresent\")\n",
    "    \"No Garage present wherever there is NaN in garage related fields as discussed in the above cell\"\n",
    "    dataframe.loc[:,\"GarageType\"] = dataframe.loc[:,\"GarageType\"].fillna(\"NoGarage\")\n",
    "    dataframe.loc[:,\"GarageYrBlt\"] = dataframe.loc[:,\"GarageYrBlt\"].fillna(\"NoGarage\")\n",
    "    dataframe.loc[:,\"GarageFinish\"] = dataframe.loc[:,\"GarageFinish\"].fillna(\"NoGarage\")\n",
    "    dataframe.loc[:,\"GarageQual\"] = dataframe.loc[:,\"GarageQual\"].fillna(\"NoGarage\")\n",
    "    dataframe.loc[:,\"GarageCond\"] = dataframe.loc[:,\"GarageCond\"].fillna(\"NoGarage\")\n",
    "    \"Similarly for other variables\"\n",
    "    dataframe.loc[:,\"PoolQC\"] = dataframe.loc[:,\"PoolQC\"].fillna(\"NoPool\")\n",
    "    dataframe.loc[:,\"Fence\"] = dataframe.loc[:,\"Fence\"].fillna(\"NoFence\")\n",
    "    dataframe.loc[:,\"MiscFeature\"] = dataframe.loc[:,\"MiscFeature\"].fillna(\"NoMisc\")\n",
    "    \"\"\"MasVnrType and MasVnrArea also has NaN values. We cannot comment anything on those NaN values because it \n",
    "    already has the field None. We cannot assume those NaN values to be None. The other option would be to drop those \n",
    "    NaN values. But since out of those 8 values one of them has a sales price of 465000, it wouldn't be wise to \n",
    "    drop those 8 values. Only option left is to assume it to be None and 0.\"\"\"\n",
    "    dataframe.loc[:,\"MasVnrType\"] = dataframe.loc[:,\"MasVnrType\"].fillna(\"None\")\n",
    "    dataframe.loc[:,\"MasVnrArea\"] = dataframe.loc[:,\"MasVnrArea\"].fillna(0)\n",
    "    \n",
    "    "
   ]
  },
  {
   "cell_type": "code",
   "execution_count": 8,
   "metadata": {
    "collapsed": false
   },
   "outputs": [],
   "source": [
    "missing_data_treatment(df)"
   ]
  },
  {
   "cell_type": "code",
   "execution_count": 9,
   "metadata": {
    "collapsed": false
   },
   "outputs": [
    {
     "name": "stdout",
     "output_type": "stream",
     "text": [
      "MSSubClass       0\n",
      "MSZoning         0\n",
      "LotFrontage      0\n",
      "LotArea          0\n",
      "Street           0\n",
      "Alley            0\n",
      "LotShape         0\n",
      "LandContour      0\n",
      "Utilities        0\n",
      "LotConfig        0\n",
      "LandSlope        0\n",
      "Neighborhood     0\n",
      "Condition1       0\n",
      "Condition2       0\n",
      "BldgType         0\n",
      "HouseStyle       0\n",
      "OverallQual      0\n",
      "OverallCond      0\n",
      "YearBuilt        0\n",
      "YearRemodAdd     0\n",
      "RoofStyle        0\n",
      "RoofMatl         0\n",
      "Exterior1st      0\n",
      "Exterior2nd      0\n",
      "MasVnrType       0\n",
      "MasVnrArea       0\n",
      "ExterQual        0\n",
      "ExterCond        0\n",
      "Foundation       0\n",
      "BsmtQual         0\n",
      "BsmtCond         0\n",
      "BsmtExposure     0\n",
      "BsmtFinType1     0\n",
      "BsmtFinSF1       0\n",
      "BsmtFinType2     0\n",
      "BsmtFinSF2       0\n",
      "BsmtUnfSF        0\n",
      "TotalBsmtSF      0\n",
      "Heating          0\n",
      "HeatingQC        0\n",
      "CentralAir       0\n",
      "Electrical       0\n",
      "1stFlrSF         0\n",
      "2ndFlrSF         0\n",
      "LowQualFinSF     0\n",
      "GrLivArea        0\n",
      "BsmtFullBath     0\n",
      "BsmtHalfBath     0\n",
      "FullBath         0\n",
      "HalfBath         0\n",
      "BedroomAbvGr     0\n",
      "KitchenAbvGr     0\n",
      "KitchenQual      0\n",
      "TotRmsAbvGrd     0\n",
      "Functional       0\n",
      "Fireplaces       0\n",
      "FireplaceQu      0\n",
      "GarageType       0\n",
      "GarageYrBlt      0\n",
      "GarageFinish     0\n",
      "GarageCars       0\n",
      "GarageArea       0\n",
      "GarageQual       0\n",
      "GarageCond       0\n",
      "PavedDrive       0\n",
      "WoodDeckSF       0\n",
      "OpenPorchSF      0\n",
      "EnclosedPorch    0\n",
      "3SsnPorch        0\n",
      "ScreenPorch      0\n",
      "PoolArea         0\n",
      "PoolQC           0\n",
      "Fence            0\n",
      "MiscFeature      0\n",
      "MiscVal          0\n",
      "MoSold           0\n",
      "YrSold           0\n",
      "SaleType         0\n",
      "SaleCondition    0\n",
      "SalePrice        0\n"
     ]
    }
   ],
   "source": [
    "##checking for NaN values again\n",
    "print(df.isnull().sum(axis=0).to_string())"
   ]
  },
  {
   "cell_type": "code",
   "execution_count": 10,
   "metadata": {
    "collapsed": false
   },
   "outputs": [
    {
     "name": "stdout",
     "output_type": "stream",
     "text": [
      "MSSubClass         int64\n",
      "MSZoning          object\n",
      "LotFrontage      float64\n",
      "LotArea            int64\n",
      "Street            object\n",
      "Alley             object\n",
      "LotShape          object\n",
      "LandContour       object\n",
      "Utilities         object\n",
      "LotConfig         object\n",
      "LandSlope         object\n",
      "Neighborhood      object\n",
      "Condition1        object\n",
      "Condition2        object\n",
      "BldgType          object\n",
      "HouseStyle        object\n",
      "OverallQual        int64\n",
      "OverallCond        int64\n",
      "YearBuilt          int64\n",
      "YearRemodAdd       int64\n",
      "RoofStyle         object\n",
      "RoofMatl          object\n",
      "Exterior1st       object\n",
      "Exterior2nd       object\n",
      "MasVnrType        object\n",
      "MasVnrArea       float64\n",
      "ExterQual         object\n",
      "ExterCond         object\n",
      "Foundation        object\n",
      "BsmtQual          object\n",
      "BsmtCond          object\n",
      "BsmtExposure      object\n",
      "BsmtFinType1      object\n",
      "BsmtFinSF1         int64\n",
      "BsmtFinType2      object\n",
      "BsmtFinSF2         int64\n",
      "BsmtUnfSF          int64\n",
      "TotalBsmtSF        int64\n",
      "Heating           object\n",
      "HeatingQC         object\n",
      "CentralAir        object\n",
      "Electrical        object\n",
      "1stFlrSF           int64\n",
      "2ndFlrSF           int64\n",
      "LowQualFinSF       int64\n",
      "GrLivArea          int64\n",
      "BsmtFullBath       int64\n",
      "BsmtHalfBath       int64\n",
      "FullBath           int64\n",
      "HalfBath           int64\n",
      "BedroomAbvGr       int64\n",
      "KitchenAbvGr       int64\n",
      "KitchenQual       object\n",
      "TotRmsAbvGrd       int64\n",
      "Functional        object\n",
      "Fireplaces         int64\n",
      "FireplaceQu       object\n",
      "GarageType        object\n",
      "GarageYrBlt       object\n",
      "GarageFinish      object\n",
      "GarageCars         int64\n",
      "GarageArea         int64\n",
      "GarageQual        object\n",
      "GarageCond        object\n",
      "PavedDrive        object\n",
      "WoodDeckSF         int64\n",
      "OpenPorchSF        int64\n",
      "EnclosedPorch      int64\n",
      "3SsnPorch          int64\n",
      "ScreenPorch        int64\n",
      "PoolArea           int64\n",
      "PoolQC            object\n",
      "Fence             object\n",
      "MiscFeature       object\n",
      "MiscVal            int64\n",
      "MoSold             int64\n",
      "YrSold             int64\n",
      "SaleType          object\n",
      "SaleCondition     object\n",
      "SalePrice          int64\n"
     ]
    }
   ],
   "source": [
    "print(df.dtypes.to_string())"
   ]
  },
  {
   "cell_type": "code",
   "execution_count": 11,
   "metadata": {
    "collapsed": true
   },
   "outputs": [],
   "source": [
    "lr = LinearRegression(fit_intercept=True, copy_X=True, n_jobs=1)"
   ]
  },
  {
   "cell_type": "code",
   "execution_count": 12,
   "metadata": {
    "collapsed": false
   },
   "outputs": [],
   "source": [
    "mymod = lr.fit(X=df.select_dtypes(include=['float64','int64']).values, y=df['SalePrice'])"
   ]
  },
  {
   "cell_type": "code",
   "execution_count": 13,
   "metadata": {
    "collapsed": false
   },
   "outputs": [],
   "source": [
    "y_train_pred = mymod.predict(df.select_dtypes(include=['float64','int64']).values)"
   ]
  },
  {
   "cell_type": "code",
   "execution_count": 14,
   "metadata": {
    "collapsed": true
   },
   "outputs": [],
   "source": [
    "from sklearn.metrics import mean_squared_error as mse"
   ]
  },
  {
   "cell_type": "code",
   "execution_count": 15,
   "metadata": {
    "collapsed": false
   },
   "outputs": [
    {
     "data": {
      "text/plain": [
       "1.89367639318354e-20"
      ]
     },
     "execution_count": 15,
     "metadata": {},
     "output_type": "execute_result"
    }
   ],
   "source": [
    "mse(y_train_pred, df['SalePrice'])"
   ]
  },
  {
   "cell_type": "code",
   "execution_count": 17,
   "metadata": {
    "collapsed": false
   },
   "outputs": [
    {
     "data": {
      "text/plain": [
       "'It can be seen that this is clearly overfitting. The model will perform well on the \\ntrain data but will fail on the test data'"
      ]
     },
     "execution_count": 17,
     "metadata": {},
     "output_type": "execute_result"
    }
   ],
   "source": [
    "\"\"\"It can be seen that this is clearly overfitting. The model will perform well on the \n",
    "train data but will fail on the test data\"\"\""
   ]
  },
  {
   "cell_type": "code",
   "execution_count": 16,
   "metadata": {
    "collapsed": true
   },
   "outputs": [],
   "source": [
    "\"\"\"Using statsmodels to get the p-values and t statistics\"\"\"\n",
    "import statsmodels.api as sm"
   ]
  },
  {
   "cell_type": "code",
   "execution_count": 17,
   "metadata": {
    "collapsed": false
   },
   "outputs": [],
   "source": [
    "mod = sm.regression.linear_model.OLS(df['SalePrice'], df.select_dtypes(include=['float64','int64']).values)"
   ]
  },
  {
   "cell_type": "code",
   "execution_count": 18,
   "metadata": {
    "collapsed": true
   },
   "outputs": [],
   "source": [
    "res = mod.fit()"
   ]
  },
  {
   "cell_type": "code",
   "execution_count": 19,
   "metadata": {
    "collapsed": false
   },
   "outputs": [
    {
     "name": "stdout",
     "output_type": "stream",
     "text": [
      "                            OLS Regression Results                            \n",
      "==============================================================================\n",
      "Dep. Variable:              SalePrice   R-squared:                       1.000\n",
      "Model:                            OLS   Adj. R-squared:                  1.000\n",
      "Method:                 Least Squares   F-statistic:                 3.638e+31\n",
      "Date:                Mon, 25 Sep 2017   Prob (F-statistic):               0.00\n",
      "Time:                        14:45:10   Log-Likelihood:                 30380.\n",
      "No. Observations:                1456   AIC:                        -6.069e+04\n",
      "Df Residuals:                    1422   BIC:                        -6.051e+04\n",
      "Df Model:                          34                                         \n",
      "Covariance Type:            nonrobust                                         \n",
      "==============================================================================\n",
      "                 coef    std err          t      P>|t|      [95.0% Conf. Int.]\n",
      "------------------------------------------------------------------------------\n",
      "x1          1.808e-12   1.65e-13     10.930      0.000      1.48e-12  2.13e-12\n",
      "x2          1.378e-12   1.78e-13      7.733      0.000      1.03e-12  1.73e-12\n",
      "x3          3.109e-15   6.28e-16      4.953      0.000      1.88e-15  4.34e-15\n",
      "x4          6.821e-13   7.89e-12      0.086      0.931     -1.48e-11  1.62e-11\n",
      "x5         -5.684e-12   6.34e-12     -0.897      0.370     -1.81e-11  6.75e-12\n",
      "x6         -5.826e-13   3.78e-13     -1.540      0.124     -1.33e-12   1.6e-13\n",
      "x7          2.558e-13   4.06e-13      0.630      0.529     -5.41e-13  1.05e-12\n",
      "x8          4.974e-14   3.71e-14      1.341      0.180      -2.3e-14  1.22e-13\n",
      "x9         -1.776e-14   1.66e-14     -1.067      0.286     -5.04e-14  1.49e-14\n",
      "x10        -1.776e-14   2.75e-14     -0.645      0.519     -7.18e-14  3.62e-14\n",
      "x11        -7.105e-15   1.47e-14     -0.482      0.630      -3.6e-14  2.18e-14\n",
      "x12        -1.821e-14   2.15e-14     -0.847      0.397     -6.04e-14   2.4e-14\n",
      "x13         7.816e-14   3.78e-14      2.067      0.039      3.98e-15  1.52e-13\n",
      "x14        -4.441e-14   3.54e-14     -1.254      0.210     -1.14e-13  2.51e-14\n",
      "x15                 0   9.04e-14          0      1.000     -1.77e-13  1.77e-13\n",
      "x16        -1.457e-13   3.54e-14     -4.115      0.000     -2.15e-13 -7.62e-14\n",
      "x17         3.865e-12   1.62e-11      0.239      0.811     -2.79e-11  3.56e-11\n",
      "x18         2.365e-11   2.52e-11      0.939      0.348     -2.57e-11   7.3e-11\n",
      "x19          3.82e-11   1.73e-11      2.210      0.027       4.3e-12  7.21e-11\n",
      "x20         4.184e-11   1.63e-11      2.565      0.010      9.84e-12  7.38e-11\n",
      "x21        -5.684e-13   1.07e-11     -0.053      0.958     -2.16e-11  2.04e-11\n",
      "x22         3.638e-12    3.2e-11      0.114      0.909     -5.91e-11  6.63e-11\n",
      "x23         1.819e-12   7.72e-12      0.236      0.814     -1.33e-11   1.7e-11\n",
      "x24        -1.864e-11   1.09e-11     -1.713      0.087        -4e-11   2.7e-12\n",
      "x25            -1e-11   1.77e-11     -0.566      0.572     -4.47e-11  2.47e-11\n",
      "x26          1.19e-13      6e-14      1.983      0.048      1.27e-15  2.37e-13\n",
      "x27        -7.105e-15   4.91e-14     -0.145      0.885     -1.03e-13  8.92e-14\n",
      "x28          1.99e-13   9.33e-14      2.132      0.033      1.59e-14  3.82e-13\n",
      "x29         3.695e-13   1.03e-13      3.578      0.000      1.67e-13  5.72e-13\n",
      "x30        -4.263e-14   1.92e-13     -0.222      0.824     -4.19e-13  3.34e-13\n",
      "x31         3.837e-13   1.06e-13      3.626      0.000      1.76e-13  5.91e-13\n",
      "x32        -1.021e-13    1.6e-13     -0.637      0.524     -4.17e-13  2.12e-13\n",
      "x33         3.197e-14   1.14e-14      2.812      0.005      9.67e-15  5.43e-14\n",
      "x34        -4.547e-13   2.09e-12     -0.218      0.828     -4.56e-12  3.65e-12\n",
      "x35         2.487e-13   4.26e-13      0.584      0.559     -5.87e-13  1.08e-12\n",
      "x36            1.0000      2e-16   4.99e+15      0.000         1.000     1.000\n",
      "==============================================================================\n",
      "Omnibus:                       31.386   Durbin-Watson:                   0.720\n",
      "Prob(Omnibus):                  0.000   Jarque-Bera (JB):               60.788\n",
      "Skew:                           0.097   Prob(JB):                     6.31e-14\n",
      "Kurtosis:                       3.982   Cond. No.                     1.39e+16\n",
      "==============================================================================\n",
      "\n",
      "Warnings:\n",
      "[1] Standard Errors assume that the covariance matrix of the errors is correctly specified.\n",
      "[2] The smallest eigenvalue is 2.88e-19. This might indicate that there are\n",
      "strong multicollinearity problems or that the design matrix is singular.\n"
     ]
    }
   ],
   "source": [
    "print(res.summary())"
   ]
  },
  {
   "cell_type": "code",
   "execution_count": null,
   "metadata": {
    "collapsed": true
   },
   "outputs": [],
   "source": [
    "\"\"\"As it can be seen that there is only one significant variable. There is strong multicollineraity. As expected, if\n",
    "the number of variables increase, the collinearity increases and we are wasting degrees of freedom.\n",
    "This is not a good model.\"\"\""
   ]
  },
  {
   "cell_type": "code",
   "execution_count": 20,
   "metadata": {
    "collapsed": true
   },
   "outputs": [],
   "source": [
    "df['SaleCondition'] = df['SaleCondition'].astype('category')"
   ]
  },
  {
   "cell_type": "code",
   "execution_count": 33,
   "metadata": {
    "collapsed": false
   },
   "outputs": [],
   "source": [
    "df['SaleCondition'] = df['SaleCondition'].cat.reorder_categories(['Abnorml', 'Partial', \"AdjLand\",'Alloca',\"Normal\",\"Family\"], ordered=True)"
   ]
  },
  {
   "cell_type": "code",
   "execution_count": 35,
   "metadata": {
    "collapsed": false
   },
   "outputs": [],
   "source": [
    "df['SaleCondition'] = df['SaleCondition'].cat.codes"
   ]
  },
  {
   "cell_type": "code",
   "execution_count": 23,
   "metadata": {
    "collapsed": false
   },
   "outputs": [
    {
     "data": {
      "text/plain": [
       "{'Maj1', 'Maj2', 'Min1', 'Min2', 'Mod', 'Sev', 'Typ'}"
      ]
     },
     "execution_count": 23,
     "metadata": {},
     "output_type": "execute_result"
    }
   ],
   "source": [
    "set(df[\"Functional\"])"
   ]
  },
  {
   "cell_type": "code",
   "execution_count": 24,
   "metadata": {
    "collapsed": false
   },
   "outputs": [],
   "source": [
    "df['Functional'] = df['Functional'].astype('category')\n",
    "df['Functional'] = df['Functional'].cat.reorder_categories(['Typ','Min1','Min2','Mod','Maj1','Maj2','Sev'])\n",
    "df[\"Functional\"] = df['Functional'].cat.codes"
   ]
  },
  {
   "cell_type": "code",
   "execution_count": 88,
   "metadata": {
    "collapsed": false
   },
   "outputs": [],
   "source": [
    "mymod1 = lr.fit(X=df[['YearBuilt','YrSold','SaleCondition','MoSold','LotArea','BedroomAbvGr','OverallCond','OverallQual']].values, y=df['SalePrice'])"
   ]
  },
  {
   "cell_type": "code",
   "execution_count": 89,
   "metadata": {
    "collapsed": false
   },
   "outputs": [
    {
     "name": "stdout",
     "output_type": "stream",
     "text": [
      "0.702057575119\n"
     ]
    }
   ],
   "source": [
    "print(lr.score(X=df[['YearBuilt','YrSold','SaleCondition','MoSold','LotArea','BedroomAbvGr','OverallCond','OverallQual']].values, y=df['SalePrice']))"
   ]
  },
  {
   "cell_type": "code",
   "execution_count": 93,
   "metadata": {
    "collapsed": true
   },
   "outputs": [],
   "source": [
    "y_train_pred1 = mymod.predict(df[['YearBuilt','YrSold','SaleCondition','MoSold','LotArea','BedroomAbvGr','OverallCond','OverallQual']].values)"
   ]
  },
  {
   "cell_type": "code",
   "execution_count": 94,
   "metadata": {
    "collapsed": false
   },
   "outputs": [
    {
     "data": {
      "text/plain": [
       "1751403065.6589105"
      ]
     },
     "execution_count": 94,
     "metadata": {},
     "output_type": "execute_result"
    }
   ],
   "source": [
    "mse(y_train_pred1, df['SalePrice'])"
   ]
  },
  {
   "cell_type": "code",
   "execution_count": 90,
   "metadata": {
    "collapsed": true
   },
   "outputs": [],
   "source": [
    "mod = sm.regression.linear_model.OLS(df['SalePrice'], df[['YearBuilt','YrSold','SaleCondition','LotArea','BedroomAbvGr','OverallCond','OverallQual']].values)"
   ]
  },
  {
   "cell_type": "code",
   "execution_count": 91,
   "metadata": {
    "collapsed": true
   },
   "outputs": [],
   "source": [
    "res = mod.fit()"
   ]
  },
  {
   "cell_type": "code",
   "execution_count": 92,
   "metadata": {
    "collapsed": false
   },
   "outputs": [
    {
     "name": "stdout",
     "output_type": "stream",
     "text": [
      "                            OLS Regression Results                            \n",
      "==============================================================================\n",
      "Dep. Variable:              SalePrice   R-squared:                       0.954\n",
      "Model:                            OLS   Adj. R-squared:                  0.954\n",
      "Method:                 Least Squares   F-statistic:                     4321.\n",
      "Date:                Mon, 25 Sep 2017   Prob (F-statistic):               0.00\n",
      "Time:                        12:08:40   Log-Likelihood:                -17561.\n",
      "No. Observations:                1456   AIC:                         3.514e+04\n",
      "Df Residuals:                    1449   BIC:                         3.517e+04\n",
      "Df Model:                           7                                         \n",
      "Covariance Type:            nonrobust                                         \n",
      "==============================================================================\n",
      "                 coef    std err          t      P>|t|      [95.0% Conf. Int.]\n",
      "------------------------------------------------------------------------------\n",
      "x1           412.0285     49.014      8.406      0.000       315.882   508.175\n",
      "x2          -454.4109     48.064     -9.454      0.000      -548.693  -360.129\n",
      "x3         -2704.4674    881.623     -3.068      0.002     -4433.860  -975.074\n",
      "x4             1.5499      0.113     13.738      0.000         1.329     1.771\n",
      "x5          7907.0181   1382.108      5.721      0.000      5195.873  1.06e+04\n",
      "x6          3339.1496   1088.195      3.069      0.002      1204.544  5473.755\n",
      "x7          3.815e+04   1014.248     37.612      0.000      3.62e+04  4.01e+04\n",
      "==============================================================================\n",
      "Omnibus:                      449.494   Durbin-Watson:                   2.027\n",
      "Prob(Omnibus):                  0.000   Jarque-Bera (JB):             2520.177\n",
      "Skew:                           1.323   Prob(JB):                         0.00\n",
      "Kurtosis:                       8.877   Cond. No.                     1.86e+04\n",
      "==============================================================================\n",
      "\n",
      "Warnings:\n",
      "[1] Standard Errors assume that the covariance matrix of the errors is correctly specified.\n",
      "[2] The condition number is large, 1.86e+04. This might indicate that there are\n",
      "strong multicollinearity or other numerical problems.\n"
     ]
    }
   ],
   "source": [
    "print(res.summary())"
   ]
  },
  {
   "cell_type": "code",
   "execution_count": 26,
   "metadata": {
    "collapsed": false
   },
   "outputs": [],
   "source": [
    "mymod3 = lr.fit(X=df[[\"GrLivArea\"]],y=df['SalePrice'])"
   ]
  },
  {
   "cell_type": "code",
   "execution_count": 29,
   "metadata": {
    "collapsed": false
   },
   "outputs": [
    {
     "data": {
      "text/plain": [
       "0.51914373953676307"
      ]
     },
     "execution_count": 29,
     "metadata": {},
     "output_type": "execute_result"
    }
   ],
   "source": [
    "lr.score(X=df[[\"GrLivArea\"]],y=df['SalePrice'])"
   ]
  },
  {
   "cell_type": "code",
   "execution_count": 38,
   "metadata": {
    "collapsed": false
   },
   "outputs": [
    {
     "data": {
      "text/plain": [
       "0.77139091006438187"
      ]
     },
     "execution_count": 38,
     "metadata": {},
     "output_type": "execute_result"
    }
   ],
   "source": [
    "mymod4 = lr.fit(X=df[[\"GrLivArea\",\"OverallQual\",\"OverallCond\",\"YearBuilt\"]].values,y=df[\"SalePrice\"])\n",
    "lr.score(X=df[[\"GrLivArea\",\"OverallQual\",\"OverallCond\",\"YearBuilt\"]].values,y=df[\"SalePrice\"])"
   ]
  },
  {
   "cell_type": "code",
   "execution_count": 39,
   "metadata": {
    "collapsed": false
   },
   "outputs": [
    {
     "data": {
      "text/plain": [
       "0.77285205234720156"
      ]
     },
     "execution_count": 39,
     "metadata": {},
     "output_type": "execute_result"
    }
   ],
   "source": [
    "##Adding more variables\n",
    "mymod5 = lr.fit(X=df[[\"GrLivArea\",\"OverallQual\",\"OverallCond\",\"YearBuilt\",\"Functional\"]].values,y=df[\"SalePrice\"])\n",
    "lr.score(X=df[[\"GrLivArea\",\"OverallQual\",\"OverallCond\",\"YearBuilt\",\"Functional\"]].values,y=df[\"SalePrice\"])"
   ]
  },
  {
   "cell_type": "code",
   "execution_count": 40,
   "metadata": {
    "collapsed": false
   },
   "outputs": [
    {
     "data": {
      "text/plain": [
       "0.7907550727468986"
      ]
     },
     "execution_count": 40,
     "metadata": {},
     "output_type": "execute_result"
    }
   ],
   "source": [
    "mymod6 = lr.fit(X=df[[\"GrLivArea\",\"OverallQual\",\"OverallCond\",\"YearBuilt\",\"Functional\",\"LotArea\"]].values,y=df[\"SalePrice\"])\n",
    "lr.score(X=df[[\"GrLivArea\",\"OverallQual\",\"OverallCond\",\"YearBuilt\",\"Functional\",\"LotArea\"]].values,y=df[\"SalePrice\"])"
   ]
  },
  {
   "cell_type": "code",
   "execution_count": 43,
   "metadata": {
    "collapsed": false
   },
   "outputs": [
    {
     "data": {
      "text/plain": [
       "0.77408544739907859"
      ]
     },
     "execution_count": 43,
     "metadata": {},
     "output_type": "execute_result"
    }
   ],
   "source": [
    "mymod7 = lr.fit(X=df[[\"GrLivArea\",\"OverallQual\",\"OverallCond\",\"YearBuilt\",\"Functional\",\"TotRmsAbvGrd\"]].values,y=df[\"SalePrice\"])\n",
    "lr.score(X=df[[\"GrLivArea\",\"OverallQual\",\"OverallCond\",\"YearBuilt\",\"Functional\",\"TotRmsAbvGrd\"]].values,y=df[\"SalePrice\"])"
   ]
  },
  {
   "cell_type": "code",
   "execution_count": 45,
   "metadata": {
    "collapsed": false
   },
   "outputs": [
    {
     "data": {
      "text/plain": [
       "0.53235907011782091"
      ]
     },
     "execution_count": 45,
     "metadata": {},
     "output_type": "execute_result"
    }
   ],
   "source": [
    "mymod8 = lr.fit(X=df[[\"GrLivArea\",\"TotRmsAbvGrd\"]].values,y=df[\"SalePrice\"])\n",
    "lr.score(X=df[[\"GrLivArea\",\"TotRmsAbvGrd\"]].values,y=df[\"SalePrice\"])"
   ]
  },
  {
   "cell_type": "code",
   "execution_count": 46,
   "metadata": {
    "collapsed": false
   },
   "outputs": [
    {
     "data": {
      "text/plain": [
       "0.28886515101824528"
      ]
     },
     "execution_count": 46,
     "metadata": {},
     "output_type": "execute_result"
    }
   ],
   "source": [
    "mymod7 = lr.fit(X=df[[\"TotRmsAbvGrd\"]].values,y=df[\"SalePrice\"])\n",
    "lr.score(X=df[[\"TotRmsAbvGrd\"]].values,y=df[\"SalePrice\"])"
   ]
  },
  {
   "cell_type": "code",
   "execution_count": 49,
   "metadata": {
    "collapsed": false
   },
   "outputs": [],
   "source": [
    "df['ExterQual'] = df['ExterQual'].astype('category')\n",
    "df['ExterQual'] = df['ExterQual'].cat.reorder_categories(['Ex','Gd','TA','Fa'])\n",
    "df[\"ExterQual\"] = df['ExterQual'].cat.codes"
   ]
  },
  {
   "cell_type": "code",
   "execution_count": 50,
   "metadata": {
    "collapsed": false
   },
   "outputs": [],
   "source": [
    "df['ExterCond'] = df['ExterCond'].astype('category')\n",
    "df['ExterCond'] = df['ExterCond'].cat.reorder_categories(['Ex','Gd','TA','Fa','Po'])\n",
    "df[\"ExterCond\"] = df['ExterCond'].cat.codes"
   ]
  },
  {
   "cell_type": "code",
   "execution_count": 70,
   "metadata": {
    "collapsed": false
   },
   "outputs": [
    {
     "data": {
      "text/plain": [
       "0.8254600774436387"
      ]
     },
     "execution_count": 70,
     "metadata": {},
     "output_type": "execute_result"
    }
   ],
   "source": [
    "mymod6 = lr.fit(X=df[[\"GrLivArea\",\"OverallQual\",\"YearBuilt\",\"Functional\",\"LotArea\",\"ExterQual\",\"1stFlrSF\",\"2ndFlrSF\"]].values,y=df[\"SalePrice\"])\n",
    "lr.score(X=df[[\"GrLivArea\",\"OverallQual\",\"YearBuilt\",\"Functional\",\"LotArea\",\"ExterQual\",\"1stFlrSF\",\"2ndFlrSF\"]].values,y=df[\"SalePrice\"])"
   ]
  },
  {
   "cell_type": "markdown",
   "metadata": {},
   "source": [
    "The best R-squared achieved is 0.8254600774436387. The corresponding variables are \"GrLivArea\",\"OverallQual\",\"YearBuilt\",\"Functional\",\"LotArea\",\"ExterQual\",\"1stFlrSF\",\"2ndFlrSF\""
   ]
  },
  {
   "cell_type": "code",
   "execution_count": 65,
   "metadata": {
    "collapsed": false
   },
   "outputs": [
    {
     "name": "stdout",
     "output_type": "stream",
     "text": [
      "                            OLS Regression Results                            \n",
      "==============================================================================\n",
      "Dep. Variable:              SalePrice   R-squared:                       0.971\n",
      "Model:                            OLS   Adj. R-squared:                  0.971\n",
      "Method:                 Least Squares   F-statistic:                     9688.\n",
      "Date:                Mon, 25 Sep 2017   Prob (F-statistic):               0.00\n",
      "Time:                        15:54:05   Log-Likelihood:                -17232.\n",
      "No. Observations:                1456   AIC:                         3.447e+04\n",
      "Df Residuals:                    1451   BIC:                         3.450e+04\n",
      "Df Model:                           5                                         \n",
      "Covariance Type:            nonrobust                                         \n",
      "==============================================================================\n",
      "                 coef    std err          t      P>|t|      [95.0% Conf. Int.]\n",
      "------------------------------------------------------------------------------\n",
      "x1           1.91e+04    652.918     29.259      0.000      1.78e+04  2.04e+04\n",
      "x2             0.8712      0.094      9.313      0.000         0.688     1.055\n",
      "x3         -3.461e+04   1054.631    -32.819      0.000     -3.67e+04 -3.25e+04\n",
      "x4            82.1957      3.099     26.520      0.000        76.116    88.276\n",
      "x5            44.9819      2.394     18.789      0.000        40.286    49.678\n",
      "==============================================================================\n",
      "Omnibus:                      333.906   Durbin-Watson:                   2.025\n",
      "Prob(Omnibus):                  0.000   Jarque-Bera (JB):             2135.116\n",
      "Skew:                           0.907   Prob(JB):                         0.00\n",
      "Kurtosis:                       8.648   Cond. No.                     1.76e+04\n",
      "==============================================================================\n",
      "\n",
      "Warnings:\n",
      "[1] Standard Errors assume that the covariance matrix of the errors is correctly specified.\n",
      "[2] The condition number is large, 1.76e+04. This might indicate that there are\n",
      "strong multicollinearity or other numerical problems.\n"
     ]
    }
   ],
   "source": [
    "mod_2 = sm.regression.linear_model.OLS(df['SalePrice'], df[[\"OverallQual\",\"LotArea\",\"ExterQual\",\"1stFlrSF\",\"2ndFlrSF\"]].values)\n",
    "res = mod_2.fit()\n",
    "print(res.summary())"
   ]
  },
  {
   "cell_type": "code",
   "execution_count": null,
   "metadata": {
    "collapsed": true
   },
   "outputs": [],
   "source": []
  }
 ],
 "metadata": {
  "kernelspec": {
   "display_name": "Python 3",
   "language": "python",
   "name": "python3"
  },
  "language_info": {
   "codemirror_mode": {
    "name": "ipython",
    "version": 3
   },
   "file_extension": ".py",
   "mimetype": "text/x-python",
   "name": "python",
   "nbconvert_exporter": "python",
   "pygments_lexer": "ipython3",
   "version": "3.6.0"
  }
 },
 "nbformat": 4,
 "nbformat_minor": 2
}
